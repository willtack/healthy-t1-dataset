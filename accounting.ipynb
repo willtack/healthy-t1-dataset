{
 "cells": [
  {
   "cell_type": "code",
   "execution_count": 1,
   "metadata": {},
   "outputs": [],
   "source": [
    "import pandas as pd\n",
    "import numpy as np\n",
    "import seaborn as sns\n",
    "import matplotlib as plt\n",
    "import flywheel \n",
    "fw = flywheel.Client() \n",
    "collection_id = '5eb5081448fe1b1e5792a7a9' \n",
    "sessions = [fw.get_session(x.id) for x in fw.get_collection_sessions(collection_id)] "
   ]
  },
  {
   "cell_type": "markdown",
   "metadata": {},
   "source": [
    "## What's on Flywheel?"
   ]
  },
  {
   "cell_type": "code",
   "execution_count": 2,
   "metadata": {},
   "outputs": [
    {
     "name": "stdout",
     "output_type": "stream",
     "text": [
      "Done\n"
     ]
    }
   ],
   "source": [
    "groups = []\n",
    "for ses in sessions:  \n",
    "    group_id = ses.parents['group']  \n",
    "    group = fw.get(group_id)  \n",
    "    groups.append(group.label) \n",
    "print(\"Done\")"
   ]
  },
  {
   "cell_type": "code",
   "execution_count": 3,
   "metadata": {},
   "outputs": [
    {
     "name": "stdout",
     "output_type": "stream",
     "text": [
      "Detre Group: 62\n",
      "Penn FTD Center: 435\n",
      "Oathes Lab: 95\n",
      "David Wolk Lab: 210\n",
      "Davis Group: 16\n",
      "Connectome: 43\n"
     ]
    }
   ],
   "source": [
    "group_list = list(set(groups))\n",
    "n_list = []\n",
    "for g in group_list:\n",
    "    n_list.append(groups.count(g))\n",
    "    print(\"{}: {}\".format(g, groups.count(g)))"
   ]
  },
  {
   "cell_type": "markdown",
   "metadata": {},
   "source": [
    "### Checking Oathes lab discrepancy 94/95"
   ]
  },
  {
   "cell_type": "code",
   "execution_count": null,
   "metadata": {},
   "outputs": [],
   "source": [
    "oathes = []\n",
    "for ses in sessions:\n",
    "    group_id = ses.parents['group']\n",
    "    group = fw.get(group_id)\n",
    "    if group.label == 'Oathes Lab':\n",
    "        sub = fw.get(ses.parents['subject'])\n",
    "        oathes.append(sub.label)\n",
    "print('Done')        "
   ]
  },
  {
   "cell_type": "code",
   "execution_count": null,
   "metadata": {},
   "outputs": [],
   "source": [
    "print(len(oathes))"
   ]
  },
  {
   "cell_type": "code",
   "execution_count": null,
   "metadata": {},
   "outputs": [],
   "source": [
    "old_oathes_df = pd.read_csv('uploaded/zap_metadata.csv')\n",
    "old_oathes_list = old_oathes_df['Record ID']\n",
    "print(len(old_oathes_list))"
   ]
  },
  {
   "cell_type": "markdown",
   "metadata": {},
   "source": [
    "Now we remove the patients, keeping only the controls."
   ]
  },
  {
   "cell_type": "code",
   "execution_count": null,
   "metadata": {},
   "outputs": [],
   "source": [
    "just_controls_df = old_oathes_df[old_oathes_df['Record ID'].str.startswith('C')]\n",
    "just_controls_list = list(just_controls_df['Record ID'])\n",
    "print(len(just_controls_list))"
   ]
  },
  {
   "cell_type": "markdown",
   "metadata": {},
   "source": [
    "Subtract sets to find the discrepancy:"
   ]
  },
  {
   "cell_type": "code",
   "execution_count": null,
   "metadata": {},
   "outputs": [],
   "source": [
    "set(oathes) - set(just_controls_list)"
   ]
  },
  {
   "cell_type": "markdown",
   "metadata": {},
   "source": [
    "# Calculate metadata\n",
    "_______________________________________________________________________________________________\n"
   ]
  },
  {
   "cell_type": "markdown",
   "metadata": {},
   "source": [
    "#### Setup"
   ]
  },
  {
   "cell_type": "code",
   "execution_count": null,
   "metadata": {},
   "outputs": [],
   "source": [
    "# group_list = ['Aguirre', 'Davis', 'Detre', 'Oathes', 'Wolk']\n",
    "#group_list = ['Davis Group', 'David Wolk Lab', 'Connectome', 'Detre Group', 'Oathes Lab', 'FTDC']\n",
    "df = pd.read_csv('all_subs.csv')"
   ]
  },
  {
   "cell_type": "markdown",
   "metadata": {},
   "source": [
    "### Calculate % Female for each group"
   ]
  },
  {
   "cell_type": "code",
   "execution_count": null,
   "metadata": {},
   "outputs": [],
   "source": [
    "sex_dict = {}\n",
    "for group in group_list:\n",
    "    group_df = df[df['Group'] == group]\n",
    "    group_sex_series = group_df['Sex']\n",
    "    breakdown = group_sex_series.value_counts()\n",
    "    # calculate\n",
    "    n_fems = breakdown['Female']\n",
    "    n_total = len(group_sex_series)\n",
    "    sex_dict[group] = (n_fems/n_total)*100\n",
    "\n",
    "sex_df = pd.DataFrame.from_dict(sex_dict, orient='index', columns=['% Female'])"
   ]
  },
  {
   "cell_type": "markdown",
   "metadata": {},
   "source": [
    "### Calculate mean and sd of age for each group"
   ]
  },
  {
   "cell_type": "code",
   "execution_count": null,
   "metadata": {},
   "outputs": [],
   "source": [
    "mean_dict = {}\n",
    "for group in group_list:\n",
    "    group_df = df[df['Group'] == group]\n",
    "    group_age_series = group_df['Age']\n",
    "    #calculate\n",
    "    group_age_series.dropna(inplace=True)\n",
    "    mean = np.mean(group_age_series.to_numpy(dtype='float32'))\n",
    "    sd = np.std(group_age_series.to_numpy(dtype='float32'))\n",
    "    values = [mean, sd]\n",
    "    mean_dict[group] = values\n",
    "    \n",
    "mean_df = pd.DataFrame.from_dict(mean_dict, orient='index', columns = ['mean','sd'])"
   ]
  },
  {
   "cell_type": "code",
   "execution_count": null,
   "metadata": {},
   "outputs": [],
   "source": [
    "n_list = [16, 210, 43, 62, 95, 459]\n"
   ]
  },
  {
   "cell_type": "code",
   "execution_count": null,
   "metadata": {},
   "outputs": [],
   "source": [
    "big_df = mean_df\n",
    "big_df['% Female'] = sex_df['% Female']\n",
    "big_df['N'] = n_list\n",
    "big_df.to_csv('summary.csv')"
   ]
  },
  {
   "cell_type": "markdown",
   "metadata": {},
   "source": [
    "# Plot histogram\n",
    "_______________________________________________________________________________________________\n"
   ]
  },
  {
   "cell_type": "code",
   "execution_count": null,
   "metadata": {},
   "outputs": [],
   "source": [
    "df_noftdc = df[df.Group != 'FTDC']"
   ]
  },
  {
   "cell_type": "code",
   "execution_count": null,
   "metadata": {},
   "outputs": [],
   "source": [
    "sns.distplot(df[\"Age\"], norm_hist=False, bins=50, kde=False)\n",
    "sns.distplot(df_noftdc[\"Age\"], norm_hist=False, bins=50, kde=False)"
   ]
  }
 ],
 "metadata": {
  "kernelspec": {
   "display_name": "Python 3",
   "language": "python",
   "name": "python3"
  },
  "language_info": {
   "codemirror_mode": {
    "name": "ipython",
    "version": 3
   },
   "file_extension": ".py",
   "mimetype": "text/x-python",
   "name": "python",
   "nbconvert_exporter": "python",
   "pygments_lexer": "ipython3",
   "version": "3.7.3"
  }
 },
 "nbformat": 4,
 "nbformat_minor": 2
}
