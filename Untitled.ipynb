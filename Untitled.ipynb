{
 "cells": [
  {
   "cell_type": "code",
   "execution_count": null,
   "metadata": {},
   "outputs": [],
   "source": [
    "import flywheel\n",
    "fw = flywheel.Client()\n",
    "collection_id = '5eb5081448fe1b1e5792a7a9'\n",
    "gear = fw.lookup('gears/antsct-fw')"
   ]
  },
  {
   "cell_type": "code",
   "execution_count": null,
   "metadata": {},
   "outputs": [],
   "source": [
    "# Here we get all the sessions within the collection.\n",
    "# We use `get_session` to return the associated analyses\n",
    "sessions = [fw.get_session(x.id) for x in fw.get_collection_sessions(collection_id)]\n",
    "print(\"done\")"
   ]
  },
  {
   "cell_type": "code",
   "execution_count": null,
   "metadata": {},
   "outputs": [],
   "source": [
    "# Download ANTs-CT analyses for T1 Normative Dataset\n",
    "\n",
    "import flywheel\n",
    "fw = flywheel.Client()\n",
    "collection_id = '5eb5081448fe1b1e5792a7a9'\n",
    "\n",
    "# Two ways to find the analyses: by label, or gear name.\n",
    "# You can modify the code to use the one you think works best.\n",
    "#analysis_label = <your_analysis_label_here>\n",
    "gear_name = 'thickantscamke' # Gear that generated the analyses\n",
    "\n",
    "# Here we get all the sessions within the collection.\n",
    "# We use `get_session` to return the associated analyses\n",
    "sessions = [fw.get_session(x.id) for x in fw.get_collection_sessions(collection_id)]\n",
    "\n",
    "# Gather up the matching analyses in a list (optional)\n",
    "analyses = list()\n",
    "\n",
    "# Iterate over the sessions, find the analyses, and download...\n",
    "for session in sessions:\n",
    "    for analysis in session.analyses:\n",
    "        match = False\n",
    "\n",
    "        if gear_name == analysis.job['gear_info']['name']:\n",
    "            print(analysis_label)\n",
    "            match = True\n",
    "\n",
    "        # if analysis_label in analysis.label:\n",
    "        #     print(analysis.label)\n",
    "        #     match = True\n",
    "\n",
    "        if match:\n",
    "            ## Append to the analyses list\n",
    "            analyses.append(analysis)\n",
    "\n",
    "            ## Download tar, or a single file, directly\n",
    "            # analysis.download_tar(<dest_file>)\n",
    "            # analysis.download_file(<file_name>, <dest_file>)    "
   ]
  }
 ],
 "metadata": {
  "kernelspec": {
   "display_name": "Python 3",
   "language": "python",
   "name": "python3"
  },
  "language_info": {
   "codemirror_mode": {
    "name": "ipython",
    "version": 3
   },
   "file_extension": ".py",
   "mimetype": "text/x-python",
   "name": "python",
   "nbconvert_exporter": "python",
   "pygments_lexer": "ipython3",
   "version": "3.7.3"
  }
 },
 "nbformat": 4,
 "nbformat_minor": 2
}
