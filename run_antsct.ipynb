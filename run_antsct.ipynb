{
 "cells": [
  {
   "cell_type": "markdown",
   "metadata": {},
   "source": [
    "## Run ANTs-CT analyses for T1 Normative Dataset"
   ]
  },
  {
   "cell_type": "code",
   "execution_count": 2,
   "metadata": {},
   "outputs": [],
   "source": [
    "import flywheel\n",
    "fw = flywheel.Client()\n",
    "collection_id = '5eb5081448fe1b1e5792a7a9'\n",
    "gear = fw.lookup('gears/antsct-fw')"
   ]
  },
  {
   "cell_type": "code",
   "execution_count": 3,
   "metadata": {},
   "outputs": [
    {
     "name": "stdout",
     "output_type": "stream",
     "text": [
      "done\n"
     ]
    }
   ],
   "source": [
    "# Here we get all the sessions within the collection.\n",
    "# We use `get_session` to return the associated analyses\n",
    "sessions = [fw.get_session(x.id) for x in fw.get_collection_sessions(collection_id)]\n",
    "print(\"done\")"
   ]
  },
  {
   "cell_type": "code",
   "execution_count": 16,
   "metadata": {},
   "outputs": [],
   "source": [
    "# Create a short list of sessions for testing.\n",
    "sessions_short = [\n",
    "    fw.get('5a1f3f4c3b71e5001dfd54ba'), # TOME_3004\n",
    "    fw.get('5a1f45833b71e5001bfd5427'), # TOME_3005\n",
    "    fw.get('5a1f44583b71e50018fd524b'), # TOME_3009\n",
    "    fw.get('5d7fce5c0f98b7003770ace7'), # PE - C005\n",
    "    fw.get('5d7fcd7a0f98b7004983593d'), # PE - C004\n",
    "    fw.get('5d02398aa550c600466fd78f'), # NACC 118317\n",
    "    fw.get('5d024dcea550c600466fd931'), # NACC 118998\n",
    "    fw.get('5d017abca550c600486fe47d'), # NACC 106122\n",
    "    fw.get('5e5d21cc782dc81242f1e8e3'), # PHARMA C14\n",
    "    fw.get('5e5801b06dea3101ae2a744f'), # CBFLOW C02 hup6\n",
    "    fw.get('5e5801b06dea3101ae2a7457'), # CBFLOW C01 hup6\n",
    "    fw.get('5e2070a23a9694007a7709a3'), # ZAP C238\n",
    "    fw.get('5d9ded21a54d350044c0fc49'), # ZAP C472\n",
    "    fw.get('5e1f97123a9694007a76060d'), # HUP3TLEGACY 119517\n",
    "    fw.get('5e27d829048f71005705bed8'), # HUP3TLEGACY 124747\n",
    "    fw.get('5e32f4796dea3101d72a745b'), # HUP6 125277  \n",
    "]"
   ]
  },
  {
   "cell_type": "markdown",
   "metadata": {},
   "source": [
    "### For each session, select appropriate acquisition and run gear on"
   ]
  },
  {
   "cell_type": "code",
   "execution_count": 7,
   "metadata": {},
   "outputs": [],
   "source": [
    "def run_gear(sessions):\n",
    "    input_t1s = []\n",
    "    no_t1_sessions = []\n",
    "    analysis_ids = []\n",
    "    for session in sessions:\n",
    "        ## Get acquisition\n",
    "        potential_t1s = []\n",
    "        for acq in session.acquisitions():\n",
    "            class_t1 = False\n",
    "            class_struct_intent = False\n",
    "            class_mprage = False\n",
    "            if acq.files and len(acq.files) > 0:\n",
    "                for i in range(0, len(acq.files)):\n",
    "                    try: \n",
    "                        class_t1 = 'T1' in acq.files[i]['classification']['Measurement'] \n",
    "                        class_struct_intent = 'Structural' in acq.files[i]['classification']['Intent']\n",
    "                        class_mprage = 'MPRAGE' in acq.files[i]['classification']['Features']\n",
    "                    except TypeError as te:\n",
    "                        continue\n",
    "                    except KeyError as ke:\n",
    "                        continue                \n",
    "                    break                    \n",
    "\n",
    "            # follow a hierarchy of surest identifiers of the desired T1 acquisition (usually mprage, never setter, etc.)\n",
    "            is_mprage = class_mprage or \"mprage\" in acq.label.lower() or 't1w_mpr' in acq.label.lower()                           \n",
    "            if is_mprage and \"setter\" not in acq.label:\n",
    "                potential_t1s.insert(0, acq)\n",
    "            elif class_t1 and class_struct_intent and \"setter\" not in acq.label:\n",
    "                potential_t1s.append(acq)\n",
    "            else:\n",
    "                pass\n",
    "\n",
    "        if len(potential_t1s) == 0:\n",
    "            sub = fw.get(session.parents['subject'])\n",
    "            no_t1_sessions.append('{}: {}'.format(sub.label, session.label))\n",
    "        else:\n",
    "            # add the highest priority acquisition to the input T1s list\n",
    "            input_t1_acq = potential_t1s[0]\n",
    "            input_t1s.append(input_t1_acq)\n",
    "\n",
    "        for f in input_t1_acq.files:\n",
    "            if 'nii.gz' in f.name:\n",
    "                input_file = f\n",
    "                break\n",
    "\n",
    "        # Run the gear\n",
    "        inputs = {'t1_anatomy': input_file}\n",
    "        config = {'denoise': True, 'num-threads': 0, 'trim-neck': True, 'run-quick': False}\n",
    "        analysis_id = gear.run(analysis_label='antsct_2021-01-06_WT', config=config, inputs=inputs, destination=session)\n",
    "        analysis_ids.append(analysis_id)\n",
    "    return input_t1s, no_t1_sessions, analysis_ids"
   ]
  },
  {
   "cell_type": "code",
   "execution_count": null,
   "metadata": {},
   "outputs": [],
   "source": [
    "# (input_t1s, no_t1_sessions, analysis_ids) = run_gear(sessions)"
   ]
  },
  {
   "cell_type": "markdown",
   "metadata": {},
   "source": [
    "### Re-do failed runs"
   ]
  },
  {
   "cell_type": "code",
   "execution_count": 8,
   "metadata": {},
   "outputs": [
    {
     "name": "stdout",
     "output_type": "stream",
     "text": [
      "53\n"
     ]
    }
   ],
   "source": [
    "# copied from download_ct_maps notebook\n",
    "failed_session_ids = ['5b69a3aec78511001d2d2f1b', '5c9258b4f546b6002dbe15c3', '5c9a5ae2f546b60039eedf13', '5c9cb79ef546b60039ef6980', '5cb480b6f546b60029ef2643', '5cb5c317f546b60027ef697e', '5ced336436da2300473b236e', '5ced535336da2300473b2887', '5ceec0d236da2300473b4ef0', '5cfeaa55a550c600486fb1fe', '5cffb527a550c600466fb24d', '5d015f95a550c600486fde51', '5d016d4fa550c600446fc2e0', '5d028051a550c600446fcc1a', '5d02a962a550c600446fcec7', '5d02d314a550c600446fd0c3', '5d03cc2fa550c60048702794', '5d03cdc8a550c600396fb4b8', '5d04142ea550c6004870368f', '5d041c14a550c600467006d0', '5d0425d3a550c600416fd052', '5d042b10a550c600446fe16c', '5d044075a550c600446fe298', '5d048dc9a550c60048704b5e', '5d04c97ea550c60046701878', '5d04d0c8a550c60048705632', '5d04dc55a550c60046701a68', '5d05455fa550c600416fd7a8', '5d054e6ca550c60046702024', '5d05942aa550c600416fda3a', '5d05a8b7a550c6004670293d', '5d30b8e935e01a0048d5cd24', '5d5415fcc3758a0049e22e4a', '5d5ec98ec3758a0049ecfd3c', '5d6547dec3758a006ef7f932', '5d71218734e0e3bfaf5542b8', '5d7a7f100f98b7004374a51a', '5d83c5870f98b7004986e0d5', '5da9e30e08e5bb6280f14c41', '5db3114708e5bb62807be0aa', '5dbb21fee74aa30057fea0e1', '5dcda9e0e74aa300602e9e4c', '5df8ec36d566950078c1f566', '5e1de2f43a9694005b6e11cd', '5e1e4d1a3a9694005b6e80bb', '5e1e57003a9694007a7470d0', '5e25d0b13a969400596f97a8', '5e2715ce3a9694007a812d5a', '5e3c30ca899b20c07d1a77b8', '5e3c59ab6dea317c272a7411', '5e3dad8e899b20c07da919fc', '5e582662782dc8005af1e88c', '5e679e512f40632d1c3c69e4']\n",
    "failed_sessions = []\n",
    "# fw.get every session object and store in list\n",
    "for ses_id in failed_session_ids:\n",
    "    failed_sessions.append(fw.get(ses_id))\n",
    "print(len(failed_sessions))\n",
    "(f_input_t1s, f_no_t1_sessions, f_analysis_ids) = run_gear(failed_sessions)"
   ]
  },
  {
   "cell_type": "markdown",
   "metadata": {},
   "source": [
    "### Sanity check the length and contents of the list of T1 acquisitions"
   ]
  },
  {
   "cell_type": "code",
   "execution_count": 9,
   "metadata": {},
   "outputs": [
    {
     "name": "stdout",
     "output_type": "stream",
     "text": [
      "53\n"
     ]
    }
   ],
   "source": [
    "print(len(f_input_t1s))"
   ]
  },
  {
   "cell_type": "code",
   "execution_count": 11,
   "metadata": {},
   "outputs": [
    {
     "name": "stdout",
     "output_type": "stream",
     "text": [
      "0\n"
     ]
    },
    {
     "data": {
      "text/plain": [
       "[]"
      ]
     },
     "execution_count": 11,
     "metadata": {},
     "output_type": "execute_result"
    }
   ],
   "source": [
    "print(len(f_no_t1_sessions))\n",
    "f_no_t1_sessions"
   ]
  },
  {
   "cell_type": "code",
   "execution_count": 2,
   "metadata": {},
   "outputs": [],
   "source": [
    "for t1 in f_input_t1s:\n",
    "    sub = fw.get(t1.parents['subject'])\n",
    "    ses = fw.get(t1.parents['session'])\n",
    "    print('{} | {} | {}'.format(t1.label, sub.label, ses.label))"
   ]
  }
 ],
 "metadata": {
  "kernelspec": {
   "display_name": "Python 3",
   "language": "python",
   "name": "python3"
  },
  "language_info": {
   "codemirror_mode": {
    "name": "ipython",
    "version": 3
   },
   "file_extension": ".py",
   "mimetype": "text/x-python",
   "name": "python",
   "nbconvert_exporter": "python",
   "pygments_lexer": "ipython3",
   "version": "3.7.3"
  }
 },
 "nbformat": 4,
 "nbformat_minor": 2
}
