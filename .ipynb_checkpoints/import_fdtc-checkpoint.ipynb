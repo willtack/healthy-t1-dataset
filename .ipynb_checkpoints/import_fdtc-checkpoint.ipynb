{
 "cells": [
  {
   "cell_type": "code",
   "execution_count": 1,
   "metadata": {},
   "outputs": [],
   "source": [
    "import flywheel\n",
    "import pandas as pd"
   ]
  },
  {
   "cell_type": "code",
   "execution_count": 2,
   "metadata": {},
   "outputs": [],
   "source": [
    "fw = flywheel.Client()\n",
    "#project = fw.get('5e1cec8e3a9694005b6d12ab') # HUP3TLegacy\n",
    "project = fw.lookup('pennftdcenter/HUP3TLegacy')\n",
    "excel = pd.read_csv('sent_to_me/Controls-Prodromals_10-1.csv')"
   ]
  },
  {
   "cell_type": "markdown",
   "metadata": {},
   "source": [
    "Get list of subject/sessions from excel sheet"
   ]
  },
  {
   "cell_type": "code",
   "execution_count": 3,
   "metadata": {},
   "outputs": [
    {
     "name": "stdout",
     "output_type": "stream",
     "text": [
      "459\n"
     ]
    }
   ],
   "source": [
    "excel_sid_list = list(excel['INDDID'])\n",
    "excel_ses_list = list(excel['MRIDateFormatted'])\n",
    "print(len(excel_sid_list))\n",
    "# convert sid list to string \n",
    "for i in range(len(excel_sid_list)):\n",
    "    if str(excel_sid_list[i]).endswith('0'): # get rid of the trailing .0s. just need the integer (in string form)\n",
    "        excel_sid_list[i] = str(int(excel_sid_list[i]))\n",
    "    else:\n",
    "        excel_sid_list[i] = str(excel_sid_list[i])\n",
    "        "
   ]
  },
  {
   "cell_type": "markdown",
   "metadata": {},
   "source": [
    "Create list of subjects and list of sessions in Flywheel project"
   ]
  },
  {
   "cell_type": "code",
   "execution_count": 4,
   "metadata": {},
   "outputs": [
    {
     "name": "stdout",
     "output_type": "stream",
     "text": [
      "N subjects: 2197\n",
      "N sessions: 3799\n"
     ]
    }
   ],
   "source": [
    "fw_sid_list = []\n",
    "for subject in project.subjects():\n",
    "    #print(subject.label)\n",
    "    fw_sid_list.append(subject.label)\n",
    "\n",
    "fw_ses_list = []\n",
    "for ses in project.sessions():\n",
    "    #print(subject.label)\n",
    "    fw_ses_list.append(ses.label)\n",
    "    \n",
    "print(\"N subjects: \" + str(len(fw_sid_list)))\n",
    "print(\"N sessions: \" + str(len(fw_ses_list)))"
   ]
  },
  {
   "cell_type": "markdown",
   "metadata": {},
   "source": [
    "Get sessions in collection"
   ]
  },
  {
   "cell_type": "code",
   "execution_count": 5,
   "metadata": {},
   "outputs": [],
   "source": [
    "collection = fw.get('5eb5081448fe1b1e5792a7a9')\n",
    "collection_id = '5eb5081448fe1b1e5792a7a9'\n",
    "sessions = [fw.get_session(x.id) for x in fw.get_collection_sessions(collection_id)]"
   ]
  },
  {
   "cell_type": "markdown",
   "metadata": {},
   "source": [
    "Loop through sessions in FTDC, check if FW subject label in the excel list. If so, check if the corresponding FW session is the same as the corresponding session in the excel sheet. Loop through the sessions acquisitions. Tally the subjects, the sessions, and the acquisitions. \n",
    "\n",
    "Some sessions have more than one T1, hence the higher number of acquisitions."
   ]
  },
  {
   "cell_type": "code",
   "execution_count": 6,
   "metadata": {},
   "outputs": [
    {
     "name": "stdout",
     "output_type": "stream",
     "text": [
      "N subs: 856\n",
      "N sessions: 440\n",
      "N acquisitions: 682\n"
     ]
    }
   ],
   "source": [
    "sessions_list = []\n",
    "ses_container_list = []\n",
    "subs_list = []\n",
    "acq_list = []\n",
    "for ses in project.sessions():\n",
    "    sub = fw.get(ses.parents['subject'])\n",
    "    fw_ses_label = ses.label.split('-')[0]\n",
    "    if sub.label in excel_sid_list:\n",
    "        subs_list.append(sub.label)\n",
    "        row = excel.loc[excel['INDDID']==float(sub.label)]\n",
    "        excel_ses_label = list(row['MRIDateFormatted'])[0]\n",
    "        if fw_ses_label == str(excel_ses_label):\n",
    "            sessions_list.append(ses.label)\n",
    "            ses_container_list.append(ses)\n",
    "            for acq in ses.acquisitions():\n",
    "#                 print(acq.files[0]['classification'])\n",
    "                has_mes = 'Measurement' in acq.files[0]['classification']\n",
    "                if has_mes:\n",
    "                    has_t1 = 'T1' in acq.files[0]['classification']['Measurement']\n",
    "                else:\n",
    "                    continue\n",
    "#                 print('has measurements: ' + str(has_mes))\n",
    "#                 print('has T1: ' + str(has_t1))\n",
    "                if has_mes and has_t1:\n",
    "                    acq_list.append(acq.label)\n",
    "            \n",
    "print(\"N subs: \" + str(len(subs_list)))\n",
    "print(\"N sessions: \" + str(len(sessions_list)))\n",
    "print(\"N acquisitions: \" + str(len(acq_list)))"
   ]
  },
  {
   "cell_type": "markdown",
   "metadata": {},
   "source": [
    "The subjects number is much higher than the number of sessions, because subjects have multiple sessions and we started by looping through all the sessions. Looking at the set of unique values in the subjects list should give us a number similar to the number of sessions."
   ]
  },
  {
   "cell_type": "code",
   "execution_count": 7,
   "metadata": {},
   "outputs": [
    {
     "data": {
      "text/plain": [
       "443"
      ]
     },
     "execution_count": 7,
     "metadata": {},
     "output_type": "execute_result"
    }
   ],
   "source": [
    "len(set(subs_list))"
   ]
  },
  {
   "cell_type": "markdown",
   "metadata": {},
   "source": [
    "Close...which FW subjects have no corresponding sessions in FW?"
   ]
  },
  {
   "cell_type": "code",
   "execution_count": 46,
   "metadata": {},
   "outputs": [
    {
     "name": "stdout",
     "output_type": "stream",
     "text": [
      "440\n"
     ]
    }
   ],
   "source": [
    "sessions_subs = [0]*len(ses_container_list) # create a list of the subject names for sessions in sessions_list\n",
    "for i in range(len(ses_container_list)):\n",
    "    sub_id = ses_container_list[i].parents[\"subject\"]\n",
    "    sub_label = fw.get(sub_id).label\n",
    "    sessions_subs[i] = sub_label\n",
    "\n",
    "print(len(sessions_subs))"
   ]
  },
  {
   "cell_type": "code",
   "execution_count": 34,
   "metadata": {},
   "outputs": [
    {
     "data": {
      "text/plain": [
       "['109758', '106954', '102622', '123119', '124847', '106555']"
      ]
     },
     "execution_count": 34,
     "metadata": {},
     "output_type": "execute_result"
    }
   ],
   "source": [
    "diff_set = set(subs_list) - set(sessions_subs)\n",
    "list(diff_set)"
   ]
  },
  {
   "cell_type": "code",
   "execution_count": 48,
   "metadata": {},
   "outputs": [
    {
     "name": "stdout",
     "output_type": "stream",
     "text": [
      "437\n"
     ]
    }
   ],
   "source": [
    "print(len(set(sessions_subs)))"
   ]
  },
  {
   "cell_type": "markdown",
   "metadata": {},
   "source": [
    "Compared Excel and Flywheel and noticed that the session dates don't quite match up for these subjects."
   ]
  },
  {
   "cell_type": "markdown",
   "metadata": {},
   "source": [
    "There are also some duplicates in the sessions_list:"
   ]
  },
  {
   "cell_type": "code",
   "execution_count": 37,
   "metadata": {},
   "outputs": [
    {
     "name": "stdout",
     "output_type": "stream",
     "text": [
      "440\n",
      "438\n"
     ]
    }
   ],
   "source": [
    "print(len(sessions_list))\n",
    "print(len(set(sessions_list)))"
   ]
  },
  {
   "cell_type": "code",
   "execution_count": 38,
   "metadata": {},
   "outputs": [
    {
     "name": "stdout",
     "output_type": "stream",
     "text": [
      "['20140621-1627', '20190430-1259']\n"
     ]
    }
   ],
   "source": [
    "import collections\n",
    "print([item for item, count in collections.Counter(sessions_list).items() if count > 1])"
   ]
  },
  {
   "cell_type": "markdown",
   "metadata": {},
   "source": [
    "Create a new list of containers without those duplicates. Then, create a new subjects list from that new containers list."
   ]
  },
  {
   "cell_type": "code",
   "execution_count": 44,
   "metadata": {},
   "outputs": [
    {
     "name": "stdout",
     "output_type": "stream",
     "text": [
      "440\n",
      "438\n"
     ]
    }
   ],
   "source": [
    "ses_id_list = [0]*len(ses_container_list)\n",
    "for i in range(len(ses_container_list)):\n",
    "    ses_id_list[i] = ses_container_list[i].id\n",
    "\n",
    "ses_20140621_id = '5e1efd9d3a969400576a123f'\n",
    "ses_20190430_id = '5f36af0be09d70600222e620'\n",
    "ses_id_list.remove(ses_20140621_id)\n",
    "ses_id_list.remove(ses_20190430_id)\n",
    "\n",
    "print(len(ses_id_list))"
   ]
  },
  {
   "cell_type": "markdown",
   "metadata": {},
   "source": [
    "Create a new list of session_subs:"
   ]
  },
  {
   "cell_type": "code",
   "execution_count": 47,
   "metadata": {},
   "outputs": [
    {
     "name": "stdout",
     "output_type": "stream",
     "text": [
      "876\n"
     ]
    }
   ],
   "source": [
    "new_sessions_subs = [0]*len(ses_id_list)\n",
    "for i in range(len(ses_id_list)):\n",
    "    subject_id = fw.get(ses_id_list[i]).parents[\"subject\"]\n",
    "    sub_label = fw.get(subject_id).label \n",
    "    new_sessions_subs[i] = sub_label\n",
    "\n",
    "print(len(new_sessions_subs))"
   ]
  },
  {
   "cell_type": "code",
   "execution_count": 50,
   "metadata": {},
   "outputs": [
    {
     "name": "stdout",
     "output_type": "stream",
     "text": [
      "2\n"
     ]
    }
   ],
   "source": [
    "print(len(set(new_sessions_subs)))"
   ]
  },
  {
   "cell_type": "markdown",
   "metadata": {},
   "source": [
    "And compare again."
   ]
  },
  {
   "cell_type": "code",
   "execution_count": null,
   "metadata": {},
   "outputs": [],
   "source": [
    "diff_set = set(subs_list) - set(new_sessions_subs)\n",
    "list(diff_set)"
   ]
  },
  {
   "cell_type": "code",
   "execution_count": 51,
   "metadata": {},
   "outputs": [
    {
     "name": "stdout",
     "output_type": "stream",
     "text": [
      "[]\n",
      "0\n"
     ]
    }
   ],
   "source": [
    "def Diff(li1, li2): \n",
    "    li_dif = [i for i in li1 + li2 if i not in li1 or i not in li2] \n",
    "    return li_dif\n",
    "\n",
    "diff = Diff(sessions_subs, list(set(sessions_subs)))\n",
    "print(diff)\n",
    "print(len(set(diff)))"
   ]
  },
  {
   "cell_type": "markdown",
   "metadata": {},
   "source": [
    "Double check that the sessions are in the excel file."
   ]
  },
  {
   "cell_type": "code",
   "execution_count": 13,
   "metadata": {},
   "outputs": [],
   "source": [
    "# Make the lists the same format (the dates as strings)\n",
    "excel_ses_list2 = [0] * len(excel_ses_list)\n",
    "for i in range(len(excel_ses_list)):\n",
    "    excel_ses_list2[i] = str(excel_ses_list[i]) # turn into string\n",
    "    \n",
    "sessions_list2 = [0] * len(sessions_list)\n",
    "for i in range(len(sessions_list)):\n",
    "    sessions_list2[i] = sessions_list[i].split('-')[0] # remove the four trailing digits after the dash"
   ]
  },
  {
   "cell_type": "code",
   "execution_count": 14,
   "metadata": {},
   "outputs": [
    {
     "name": "stdout",
     "output_type": "stream",
     "text": [
      "440\n"
     ]
    }
   ],
   "source": [
    "# Create a list tallying when the assembled sessions are in the excel list\n",
    "bool_list = []\n",
    "for ses in sessions_list2:\n",
    "    if ses in excel_ses_list2:\n",
    "        bool_list.append(True)\n",
    "print(len(bool_list)) # should be 440 because they should all be in the excel sheet"
   ]
  },
  {
   "cell_type": "markdown",
   "metadata": {},
   "source": [
    "### Add the sessions to collection"
   ]
  },
  {
   "cell_type": "code",
   "execution_count": 15,
   "metadata": {},
   "outputs": [
    {
     "ename": "AttributeError",
     "evalue": "'list' object has no attribute 'id'",
     "output_type": "error",
     "traceback": [
      "\u001b[0;31m---------------------------------------------------------------------------\u001b[0m",
      "\u001b[0;31mAttributeError\u001b[0m                            Traceback (most recent call last)",
      "\u001b[0;32m<ipython-input-15-9da859403efe>\u001b[0m in \u001b[0;36m<module>\u001b[0;34m\u001b[0m\n\u001b[0;32m----> 1\u001b[0;31m \u001b[0mcollection\u001b[0m\u001b[0;34m.\u001b[0m\u001b[0madd_sessions\u001b[0m\u001b[0;34m(\u001b[0m\u001b[0mses_container_list\u001b[0m\u001b[0;34m)\u001b[0m\u001b[0;34m\u001b[0m\u001b[0;34m\u001b[0m\u001b[0m\n\u001b[0m",
      "\u001b[0;32m~/anaconda3/lib/python3.7/site-packages/flywheel/models/mixins.py\u001b[0m in \u001b[0;36madd_sessions\u001b[0;34m(self, *args, **kwargs)\u001b[0m\n\u001b[1;32m    512\u001b[0m                 \u001b[0msession_ids\u001b[0m\u001b[0;34m.\u001b[0m\u001b[0mappend\u001b[0m\u001b[0;34m(\u001b[0m\u001b[0marg\u001b[0m\u001b[0;34m)\u001b[0m\u001b[0;34m\u001b[0m\u001b[0;34m\u001b[0m\u001b[0m\n\u001b[1;32m    513\u001b[0m             \u001b[0;32melse\u001b[0m\u001b[0;34m:\u001b[0m\u001b[0;34m\u001b[0m\u001b[0;34m\u001b[0m\u001b[0m\n\u001b[0;32m--> 514\u001b[0;31m                 \u001b[0msession_ids\u001b[0m\u001b[0;34m.\u001b[0m\u001b[0mappend\u001b[0m\u001b[0;34m(\u001b[0m\u001b[0marg\u001b[0m\u001b[0;34m.\u001b[0m\u001b[0mid\u001b[0m\u001b[0;34m)\u001b[0m\u001b[0;34m\u001b[0m\u001b[0;34m\u001b[0m\u001b[0m\n\u001b[0m\u001b[1;32m    515\u001b[0m \u001b[0;34m\u001b[0m\u001b[0m\n\u001b[1;32m    516\u001b[0m         return self._invoke_container_api(\n",
      "\u001b[0;31mAttributeError\u001b[0m: 'list' object has no attribute 'id'"
     ]
    }
   ],
   "source": [
    "# for container in ses_container_list:\n",
    "#     collection.add_sessions(container.id)"
   ]
  },
  {
   "cell_type": "markdown",
   "metadata": {},
   "source": [
    "Found 440 sessions in Flywheel. Compare this list to the list of 459 sessions from excel files"
   ]
  },
  {
   "cell_type": "code",
   "execution_count": null,
   "metadata": {},
   "outputs": [],
   "source": [
    "diff_list = list(set(excel_ses_list2) - set(sessions_list2))\n",
    "print(len(diff_list))"
   ]
  },
  {
   "cell_type": "markdown",
   "metadata": {},
   "source": [
    "Why only two?"
   ]
  },
  {
   "cell_type": "markdown",
   "metadata": {},
   "source": [
    "Check if those subjects/sessions are in another project"
   ]
  },
  {
   "cell_type": "code",
   "execution_count": null,
   "metadata": {},
   "outputs": [],
   "source": [
    "# def find_subjects(project):\n",
    "#     ses_list = []\n",
    "#     for ses in project.sessions():\n",
    "#         sub = fw.get(ses.parents['subject'])\n",
    "#         fw_ses_label = ses.label.split('-')[0]\n",
    "#         if sub.label in excel_sid_list:\n",
    "#             subs_list.append(sub.label)\n",
    "#             row = excel.loc[excel['INDDID']==float(sub.label)]\n",
    "#             excel_ses_label = list(row['MRIDateFormatted'])[0]\n",
    "#             if fw_ses_label == str(excel_ses_label):    \n",
    "#                 string = '{}:{}'.format(fw_ses_label, str(excel_ses_label))\n",
    "#                 ses_list.append(string)\n",
    "                \n",
    "#     return ses_list"
   ]
  },
  {
   "cell_type": "code",
   "execution_count": null,
   "metadata": {},
   "outputs": [],
   "source": [
    "project1 = fw.get('pennftdcenter/')\n",
    "project1_list = find_subjects(project1)\n",
    "project1_list"
   ]
  }
 ],
 "metadata": {
  "kernelspec": {
   "display_name": "Python 3",
   "language": "python",
   "name": "python3"
  },
  "language_info": {
   "codemirror_mode": {
    "name": "ipython",
    "version": 3
   },
   "file_extension": ".py",
   "mimetype": "text/x-python",
   "name": "python",
   "nbconvert_exporter": "python",
   "pygments_lexer": "ipython3",
   "version": "3.7.3"
  }
 },
 "nbformat": 4,
 "nbformat_minor": 2
}
