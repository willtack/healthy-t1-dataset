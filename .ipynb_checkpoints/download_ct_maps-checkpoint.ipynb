{
 "cells": [
  {
   "cell_type": "code",
   "execution_count": 8,
   "metadata": {},
   "outputs": [],
   "source": [
    "import flywheel\n",
    "import os\n",
    "fw = flywheel.Client()\n",
    "collection_id = '5eb5081448fe1b1e5792a7a9'\n",
    "# gear = fw.lookup('gears/antsct-aging-fw')\n",
    "gear_name = 'antsct-aging-fw'\n",
    "local_dir = '/media/will/My Passport/Ubuntu/cortical_thickness_maps/antsct-aging-fw'"
   ]
  },
  {
   "cell_type": "code",
   "execution_count": 2,
   "metadata": {},
   "outputs": [
    {
     "name": "stdout",
     "output_type": "stream",
     "text": [
      "done\n"
     ]
    }
   ],
   "source": [
    "# Here we get all the sessions within the collection.\n",
    "# We use `get_session` to return the associated analyses\n",
    "sessions = [fw.get_session(x.id) for x in fw.get_collection_sessions(collection_id)]\n",
    "print(\"done\")"
   ]
  },
  {
   "cell_type": "code",
   "execution_count": 11,
   "metadata": {},
   "outputs": [
    {
     "name": "stdout",
     "output_type": "stream",
     "text": [
      "antsct-aging-fw_2020-12-08_WT test\n",
      "antsct_2020-12-08_WT quick test\n",
      "[{'classification': {},\n",
      " 'created': datetime.datetime(2020, 12, 9, 0, 30, 26, 764000, tzinfo=tzutc()),\n",
      " 'deid_log_id': None,\n",
      " 'hash': '',\n",
      " 'id': '7709c030-6d18-4647-bff1-91cfa31c13b0',\n",
      " 'info': {},\n",
      " 'info_exists': None,\n",
      " 'mimetype': 'application/octet-stream',\n",
      " 'modality': None,\n",
      " 'modified': datetime.datetime(2020, 12, 9, 0, 30, 26, 764000, tzinfo=tzutc()),\n",
      " 'name': 'sub-CBFLOW_data_hup6_C01_ses-C01_20150107_CorticalThicknessNormalizedToTemplate.nii.gz',\n",
      " 'origin': {'id': '5fcfd9017142ebc37236ea10',\n",
      "            'method': None,\n",
      "            'name': None,\n",
      "            'type': 'job',\n",
      "            'via': None},\n",
      " 'replaced': None,\n",
      " 'size': 5219524,\n",
      " 'tags': [],\n",
      " 'type': 'nifti',\n",
      " 'zip_member_count': None}]\n",
      "antsct-aging-fw_2020-12-08_WT test\n",
      "antsct_2020-12-08_WT quick test\n",
      "[{'classification': {},\n",
      " 'created': datetime.datetime(2020, 12, 9, 0, 17, 19, 959000, tzinfo=tzutc()),\n",
      " 'deid_log_id': None,\n",
      " 'hash': '',\n",
      " 'id': '821fd9cd-f84d-4808-9906-64b3dc97fc22',\n",
      " 'info': {},\n",
      " 'info_exists': None,\n",
      " 'mimetype': 'application/octet-stream',\n",
      " 'modality': None,\n",
      " 'modified': datetime.datetime(2020, 12, 9, 0, 17, 19, 959000, tzinfo=tzutc()),\n",
      " 'name': 'sub-CBFLOW_data_SC3T_C18_ses-C18_20160223_CorticalThicknessNormalizedToTemplate.nii.gz',\n",
      " 'origin': {'id': '5fcfd9022e34bfb18b631e4b',\n",
      "            'method': None,\n",
      "            'name': None,\n",
      "            'type': 'job',\n",
      "            'via': None},\n",
      " 'replaced': None,\n",
      " 'size': 5725919,\n",
      " 'tags': [],\n",
      " 'type': 'nifti',\n",
      " 'zip_member_count': None}]\n"
     ]
    }
   ],
   "source": [
    "# Download cortical thickness maps from T1 Normative Dataset\n",
    "\n",
    "# Gather up the matching analyses in a list (optional)\n",
    "analyses = list()\n",
    "\n",
    "# Iterate over the sessions, find the analyses, and download...\n",
    "for session in sessions:\n",
    "    for analysis in session.analyses:\n",
    "        match = False\n",
    "\n",
    "        if gear_name == analysis.job['gear_info']['name']:\n",
    "            print(analysis.label)\n",
    "            match = True\n",
    "\n",
    "        # if analysis_label in analysis.label:\n",
    "        #     print(analysis.label)\n",
    "        #     match = True\n",
    "\n",
    "        if match and analysis.files:\n",
    "            ## Append to the analyses list\n",
    "            analyses.append(analysis)\n",
    "            file = [f for f in analysis.files if f.name.endswith('CorticalThicknessNormalizedToTemplate.nii.gz')]\n",
    "            analysis.download_file(file[0].name, os.path.join(local_dir, file[0].name))\n",
    "\n",
    "            ## Download tar, or a single file, directly\n",
    "            # analysis.download_tar(<dest_file>)\n",
    "            # analysis.download_file(<file_name>, <dest_file>)    "
   ]
  }
 ],
 "metadata": {
  "kernelspec": {
   "display_name": "Python 3",
   "language": "python",
   "name": "python3"
  },
  "language_info": {
   "codemirror_mode": {
    "name": "ipython",
    "version": 3
   },
   "file_extension": ".py",
   "mimetype": "text/x-python",
   "name": "python",
   "nbconvert_exporter": "python",
   "pygments_lexer": "ipython3",
   "version": "3.7.3"
  }
 },
 "nbformat": 4,
 "nbformat_minor": 2
}
