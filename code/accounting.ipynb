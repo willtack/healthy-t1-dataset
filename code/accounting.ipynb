{
 "cells": [
  {
   "cell_type": "code",
   "execution_count": 4,
   "metadata": {},
   "outputs": [],
   "source": [
    "import pandas as pd\n",
    "import numpy as np\n",
    "import seaborn as sns\n",
    "import matplotlib.pyplot as plt\n",
    "import flywheel \n",
    "fw = flywheel.Client() \n",
    "collection_id = '5eb5081448fe1b1e5792a7a9' "
   ]
  },
  {
   "cell_type": "markdown",
   "metadata": {},
   "source": [
    "## What's on Flywheel?"
   ]
  },
  {
   "cell_type": "code",
   "execution_count": 5,
   "metadata": {},
   "outputs": [
    {
     "name": "stdout",
     "output_type": "stream",
     "text": [
      "Done\n"
     ]
    }
   ],
   "source": [
    "groups = []\n",
    "sessions = [fw.get_session(x.id) for x in fw.get_collection_sessions(collection_id)] \n",
    "for ses in sessions:  \n",
    "    group_id = ses.parents['group']  \n",
    "    group = fw.get(group_id)  \n",
    "    groups.append(group.label) \n",
    "print(\"Done\")"
   ]
  },
  {
   "cell_type": "code",
   "execution_count": 6,
   "metadata": {},
   "outputs": [
    {
     "name": "stdout",
     "output_type": "stream",
     "text": [
      "Davis Group: 16\n",
      "Oathes Lab: 95\n",
      "Detre Group: 62\n",
      "Connectome: 43\n",
      "David Wolk Lab: 205\n",
      "Penn FTD Center: 445\n"
     ]
    }
   ],
   "source": [
    "group_list = list(set(groups))\n",
    "n_list = []\n",
    "for g in group_list:\n",
    "    n_list.append(groups.count(g))\n",
    "    print(\"{}: {}\".format(g, groups.count(g)))"
   ]
  },
  {
   "cell_type": "markdown",
   "metadata": {},
   "source": [
    "# Calculate metadata\n",
    "_______________________________________________________________________________________________\n"
   ]
  },
  {
   "cell_type": "markdown",
   "metadata": {},
   "source": [
    "#### Setup"
   ]
  },
  {
   "cell_type": "code",
   "execution_count": 7,
   "metadata": {},
   "outputs": [],
   "source": [
    "df = pd.read_csv('../metadata.csv')"
   ]
  },
  {
   "cell_type": "markdown",
   "metadata": {},
   "source": [
    "### Calculate % Female for each group"
   ]
  },
  {
   "cell_type": "code",
   "execution_count": 8,
   "metadata": {},
   "outputs": [],
   "source": [
    "sex_dict = {}\n",
    "for group in group_list:\n",
    "    group_df = df[df['Group'] == group]\n",
    "    group_sex_series = group_df['Sex']\n",
    "    breakdown = group_sex_series.value_counts()\n",
    "    # calculate\n",
    "    n_fems = breakdown['Female']\n",
    "    n_total = len(group_sex_series)\n",
    "    sex_dict[group] = (n_fems/n_total)*100\n",
    "\n",
    "sex_df = pd.DataFrame.from_dict(sex_dict, orient='index', columns=['% Female'])"
   ]
  },
  {
   "cell_type": "markdown",
   "metadata": {},
   "source": [
    "### Calculate mean and sd of age for each group"
   ]
  },
  {
   "cell_type": "code",
   "execution_count": 9,
   "metadata": {},
   "outputs": [
    {
     "name": "stderr",
     "output_type": "stream",
     "text": [
      "/home/will/anaconda3/lib/python3.7/site-packages/pandas/core/series.py:4303: SettingWithCopyWarning: \n",
      "A value is trying to be set on a copy of a slice from a DataFrame\n",
      "\n",
      "See the caveats in the documentation: http://pandas.pydata.org/pandas-docs/stable/indexing.html#indexing-view-versus-copy\n",
      "  self._update_inplace(result)\n"
     ]
    }
   ],
   "source": [
    "mean_dict = {}\n",
    "n_list = []\n",
    "for group in group_list:\n",
    "    group_df = df[df['Group'] == group]\n",
    "    n_list.append(len(group_df)) # add the number of subjects in group to an ordered list\n",
    "    group_age_series = group_df['Age']\n",
    "    #calculate\n",
    "    group_age_series.dropna(inplace=True)\n",
    "    mean = np.mean(group_age_series.to_numpy(dtype='float32'))\n",
    "    sd = np.std(group_age_series.to_numpy(dtype='float32'))\n",
    "    values = [mean, sd]\n",
    "    mean_dict[group] = values\n",
    "    \n",
    "mean_df = pd.DataFrame.from_dict(mean_dict, orient='index', columns = ['Age (mean)','Age (sd)'])"
   ]
  },
  {
   "cell_type": "code",
   "execution_count": 10,
   "metadata": {},
   "outputs": [],
   "source": [
    "big_df = mean_df\n",
    "big_df['% Female'] = sex_df['% Female']\n",
    "big_df['N'] = n_list\n",
    "big_df.to_csv('../data_collection/accounting_summary.csv')"
   ]
  },
  {
   "cell_type": "markdown",
   "metadata": {},
   "source": [
    "# Plot histogram\n",
    "_______________________________________________________________________________________________\n"
   ]
  },
  {
   "cell_type": "code",
   "execution_count": 8,
   "metadata": {},
   "outputs": [],
   "source": [
    "df_noftdc = df[df.Group != 'Penn FTD Center']"
   ]
  },
  {
   "cell_type": "code",
   "execution_count": 11,
   "metadata": {},
   "outputs": [
    {
     "data": {
      "image/png": "[encoded data removed]",
      "text/plain": [
       "<Figure size 1008x576 with 1 Axes>"
      ]
     },
     "metadata": {
      "needs_background": "light"
     },
     "output_type": "display_data"
    }
   ],
   "source": [
    "f, ax = plt.subplots(figsize=(14,8))\n",
    "ax = sns.distplot(df[\"Age\"], norm_hist=False, bins=50, kde=False, label=\"Total\")\n",
    "# ax = sns.distplot(df_noftdc[\"Age\"], norm_hist=False, bins=50, kde=False, label=\"Original (no FTDC data)\")\n",
    "ax.set_ylabel('Count')\n",
    "ax.set_title('Distribution of Age in Dataset')\n",
    "# ax.legend()\n",
    "f.savefig('../data_collection/age_distribution.png')"
   ]
  }
 ],
 "metadata": {
  "kernelspec": {
   "display_name": "Python 3",
   "language": "python",
   "name": "python3"
  },
  "language_info": {
   "codemirror_mode": {
    "name": "ipython",
    "version": 3
   },
   "file_extension": ".py",
   "mimetype": "text/x-python",
   "name": "python",
   "nbconvert_exporter": "python",
   "pygments_lexer": "ipython3",
   "version": "3.7.3"
  }
 },
 "nbformat": 4,
 "nbformat_minor": 2
}
