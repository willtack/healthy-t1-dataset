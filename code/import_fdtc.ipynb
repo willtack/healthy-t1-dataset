{
 "cells": [
  {
   "cell_type": "markdown",
   "metadata": {},
   "source": [
    "## DON'T RERUN! USE THIS AS A RECORD OF THE PROCESS."
   ]
  },
  {
   "cell_type": "code",
   "execution_count": 1,
   "metadata": {},
   "outputs": [],
   "source": [
    "import flywheel\n",
    "import pandas as pd"
   ]
  },
  {
   "cell_type": "code",
   "execution_count": 2,
   "metadata": {},
   "outputs": [],
   "source": [
    "fw = flywheel.Client()\n",
    "#project = fw.get('5e1cec8e3a9694005b6d12ab') # HUP3TLegacy\n",
    "project = fw.lookup('pennftdcenter/HUP3TLegacy')\n",
    "excel = pd.read_csv('../data_collection/originals/Controls-Prodromals_10-1.csv')"
   ]
  },
  {
   "cell_type": "markdown",
   "metadata": {},
   "source": [
    "Get list of subject/sessions from excel sheet"
   ]
  },
  {
   "cell_type": "code",
   "execution_count": 3,
   "metadata": {},
   "outputs": [
    {
     "name": "stdout",
     "output_type": "stream",
     "text": [
      "459\n"
     ]
    }
   ],
   "source": [
    "excel_sid_list = list(excel['INDDID'])\n",
    "excel_ses_list = list(excel['MRIDateFormatted'])\n",
    "print(len(excel_sid_list))\n",
    "# convert sid list to string \n",
    "for i in range(len(excel_sid_list)):\n",
    "    if str(excel_sid_list[i]).endswith('0'): # get rid of the trailing .0s. just need the integer (in string form)\n",
    "        excel_sid_list[i] = str(int(excel_sid_list[i]))\n",
    "    else:\n",
    "        excel_sid_list[i] = str(excel_sid_list[i])\n",
    "        "
   ]
  },
  {
   "cell_type": "markdown",
   "metadata": {},
   "source": [
    "Create list of subjects and list of sessions in Flywheel project"
   ]
  },
  {
   "cell_type": "code",
   "execution_count": 4,
   "metadata": {},
   "outputs": [
    {
     "name": "stdout",
     "output_type": "stream",
     "text": [
      "N subjects: 2197\n",
      "N sessions: 3799\n"
     ]
    }
   ],
   "source": [
    "fw_sid_list = []\n",
    "for subject in project.subjects():\n",
    "    #print(subject.label)\n",
    "    fw_sid_list.append(subject.label)\n",
    "\n",
    "fw_ses_list = []\n",
    "for ses in project.sessions():\n",
    "    #print(subject.label)\n",
    "    fw_ses_list.append(ses.label)\n",
    "    \n",
    "print(\"N subjects: \" + str(len(fw_sid_list)))\n",
    "print(\"N sessions: \" + str(len(fw_ses_list)))"
   ]
  },
  {
   "cell_type": "markdown",
   "metadata": {},
   "source": [
    "Get sessions in collection"
   ]
  },
  {
   "cell_type": "code",
   "execution_count": 5,
   "metadata": {},
   "outputs": [],
   "source": [
    "collection = fw.get('5eb5081448fe1b1e5792a7a9')\n",
    "collection_id = '5eb5081448fe1b1e5792a7a9'\n",
    "sessions = [fw.get_session(x.id) for x in fw.get_collection_sessions(collection_id)]"
   ]
  },
  {
   "cell_type": "markdown",
   "metadata": {},
   "source": [
    "Loop through sessions in FTDC, check if FW subject label in the excel list. If so, check if the corresponding FW session is the same as the corresponding session in the excel sheet. Loop through the sessions acquisitions. Tally the subjects, the sessions, and the acquisitions. \n",
    "\n",
    "Some sessions have more than one T1, hence the higher number of acquisitions."
   ]
  },
  {
   "cell_type": "code",
   "execution_count": 6,
   "metadata": {},
   "outputs": [
    {
     "name": "stdout",
     "output_type": "stream",
     "text": [
      "N subs: 856\n",
      "N sessions: 440\n",
      "N acquisitions: 682\n"
     ]
    }
   ],
   "source": [
    "sessions_list = []\n",
    "ses_container_list = []\n",
    "subs_list = []\n",
    "acq_list = []\n",
    "for ses in project.sessions():\n",
    "    sub = fw.get(ses.parents['subject'])\n",
    "    fw_ses_label = ses.label.split('-')[0]\n",
    "    if sub.label in excel_sid_list:\n",
    "        subs_list.append(sub.label)\n",
    "        row = excel.loc[excel['INDDID']==float(sub.label)]\n",
    "        excel_ses_label = list(row['MRIDateFormatted'])[0]\n",
    "        if fw_ses_label == str(excel_ses_label):\n",
    "            sessions_list.append(ses.label)\n",
    "            ses_container_list.append(ses)\n",
    "            for acq in ses.acquisitions():\n",
    "#                 print(acq.files[0]['classification'])\n",
    "                has_mes = 'Measurement' in acq.files[0]['classification']\n",
    "                if has_mes:\n",
    "                    has_t1 = 'T1' in acq.files[0]['classification']['Measurement']\n",
    "                else:\n",
    "                    continue\n",
    "#                 print('has measurements: ' + str(has_mes))\n",
    "#                 print('has T1: ' + str(has_t1))\n",
    "                if has_mes and has_t1:\n",
    "                    acq_list.append(acq.label)\n",
    "            \n",
    "print(\"N subs: \" + str(len(subs_list)))\n",
    "print(\"N sessions: \" + str(len(sessions_list)))\n",
    "print(\"N acquisitions: \" + str(len(acq_list)))"
   ]
  },
  {
   "cell_type": "markdown",
   "metadata": {},
   "source": [
    "The subjects number is much higher than the number of sessions, because subjects have multiple sessions and we started by looping through all the sessions. Looking at the set of unique values in the subjects list should give us a number similar to the number of sessions."
   ]
  },
  {
   "cell_type": "code",
   "execution_count": 7,
   "metadata": {},
   "outputs": [
    {
     "data": {
      "text/plain": [
       "443"
      ]
     },
     "execution_count": 7,
     "metadata": {},
     "output_type": "execute_result"
    }
   ],
   "source": [
    "len(set(subs_list))"
   ]
  },
  {
   "cell_type": "markdown",
   "metadata": {},
   "source": [
    "Close...which subjects in Excel and Flywheel don't have a Flywheel session corresponding to the subject's session in Excel?"
   ]
  },
  {
   "cell_type": "code",
   "execution_count": 63,
   "metadata": {},
   "outputs": [
    {
     "data": {
      "text/plain": [
       "440"
      ]
     },
     "execution_count": 63,
     "metadata": {},
     "output_type": "execute_result"
    }
   ],
   "source": [
    "sessions_subs = [0]*len(ses_container_list) # create a list of the subject names for sessions in sessions_list\n",
    "for i in range(len(ses_container_list)):\n",
    "    sub_id = ses_container_list[i].parents[\"subject\"]\n",
    "    sub_label = fw.get(sub_id).label\n",
    "    sessions_subs[i] = sub_label\n",
    "\n",
    "len(sessions_subs)"
   ]
  },
  {
   "cell_type": "markdown",
   "metadata": {},
   "source": [
    "But how many are unique?"
   ]
  },
  {
   "cell_type": "code",
   "execution_count": 65,
   "metadata": {},
   "outputs": [
    {
     "data": {
      "text/plain": [
       "437"
      ]
     },
     "execution_count": 65,
     "metadata": {},
     "output_type": "execute_result"
    }
   ],
   "source": [
    "len(set(sessions_subs))"
   ]
  },
  {
   "cell_type": "code",
   "execution_count": 64,
   "metadata": {},
   "outputs": [
    {
     "data": {
      "text/plain": [
       "{'102622', '106555', '106954', '109758', '123119', '124847'}"
      ]
     },
     "execution_count": 64,
     "metadata": {},
     "output_type": "execute_result"
    }
   ],
   "source": [
    "diff_set = set(subs_list) - set(sessions_subs)\n",
    "diff_set"
   ]
  },
  {
   "cell_type": "markdown",
   "metadata": {},
   "source": [
    "Compared Excel and Flywheel and noticed that the session dates don't quite match up for these subjects. We can add these to the collection manually."
   ]
  },
  {
   "cell_type": "markdown",
   "metadata": {},
   "source": [
    "There are also some duplicates in the sessions_list:"
   ]
  },
  {
   "cell_type": "code",
   "execution_count": 37,
   "metadata": {},
   "outputs": [
    {
     "name": "stdout",
     "output_type": "stream",
     "text": [
      "440\n",
      "438\n"
     ]
    }
   ],
   "source": [
    "print(len(sessions_list))\n",
    "print(len(set(sessions_list)))"
   ]
  },
  {
   "cell_type": "code",
   "execution_count": 38,
   "metadata": {},
   "outputs": [
    {
     "name": "stdout",
     "output_type": "stream",
     "text": [
      "['20140621-1627', '20190430-1259']\n"
     ]
    }
   ],
   "source": [
    "import collections\n",
    "print([item for item, count in collections.Counter(sessions_list).items() if count > 1])"
   ]
  },
  {
   "cell_type": "markdown",
   "metadata": {},
   "source": [
    "We can remove these from the collection manually."
   ]
  },
  {
   "cell_type": "markdown",
   "metadata": {},
   "source": [
    "Why is len(sessions_subs) = 440, but there are only 437 in the set?\n",
    "Check for duplicates:"
   ]
  },
  {
   "cell_type": "code",
   "execution_count": 66,
   "metadata": {},
   "outputs": [
    {
     "name": "stdout",
     "output_type": "stream",
     "text": [
      "['118252', '120841', '124249']\n"
     ]
    }
   ],
   "source": [
    "print([item for item, count in collections.Counter(sessions_subs).items() if count > 1])"
   ]
  },
  {
   "cell_type": "markdown",
   "metadata": {},
   "source": [
    "118252 has 20140621-1627 and 120841 has 20190430-1259.\n",
    "\n",
    "120841 has two different sessions on same day (03-16-2016). But both are empty in Flywheel. Will manually remove."
   ]
  },
  {
   "cell_type": "code",
   "execution_count": 67,
   "metadata": {},
   "outputs": [
    {
     "name": "stdout",
     "output_type": "stream",
     "text": [
      "['109758', '106954', '123119', '102622', '124847', '106555']\n",
      "6\n"
     ]
    }
   ],
   "source": [
    "def Diff(li1, li2): \n",
    "    li_dif = [i for i in li1 + li2 if i not in li1 or i not in li2] \n",
    "    return li_dif\n",
    "\n",
    "diff = Diff(list(set(subs_list)), sessions_subs)\n",
    "print(diff)\n",
    "print(len(set(diff)))"
   ]
  },
  {
   "cell_type": "markdown",
   "metadata": {},
   "source": [
    "Double check that the sessions are in the excel file."
   ]
  },
  {
   "cell_type": "code",
   "execution_count": 68,
   "metadata": {},
   "outputs": [],
   "source": [
    "# Make the lists the same format (the dates as strings)\n",
    "excel_ses_list2 = [0] * len(excel_ses_list)\n",
    "for i in range(len(excel_ses_list)):\n",
    "    excel_ses_list2[i] = str(excel_ses_list[i]) # turn into string\n",
    "    \n",
    "sessions_list2 = [0] * len(sessions_list)\n",
    "for i in range(len(sessions_list)):\n",
    "    sessions_list2[i] = sessions_list[i].split('-')[0] # remove the four trailing digits after the dash"
   ]
  },
  {
   "cell_type": "code",
   "execution_count": 69,
   "metadata": {},
   "outputs": [
    {
     "name": "stdout",
     "output_type": "stream",
     "text": [
      "440\n"
     ]
    }
   ],
   "source": [
    "# Create a list tallying when the assembled sessions are in the excel list\n",
    "bool_list = []\n",
    "for ses in sessions_list2:\n",
    "    if ses in excel_ses_list2:\n",
    "        bool_list.append(True)\n",
    "print(len(bool_list)) # should be 440 because they should all be in the excel sheet"
   ]
  },
  {
   "cell_type": "markdown",
   "metadata": {},
   "source": [
    "### Add the sessions to collection"
   ]
  },
  {
   "cell_type": "code",
   "execution_count": 70,
   "metadata": {},
   "outputs": [],
   "source": [
    "for container in ses_container_list:\n",
    "    collection.add_sessions(container.id)"
   ]
  },
  {
   "cell_type": "markdown",
   "metadata": {},
   "source": [
    "Convert the container list to a list of labels"
   ]
  },
  {
   "cell_type": "code",
   "execution_count": 73,
   "metadata": {},
   "outputs": [
    {
     "name": "stdout",
     "output_type": "stream",
     "text": [
      "440\n"
     ]
    }
   ],
   "source": [
    "print(len(ses_container_list))"
   ]
  },
  {
   "cell_type": "code",
   "execution_count": 76,
   "metadata": {},
   "outputs": [
    {
     "name": "stdout",
     "output_type": "stream",
     "text": [
      "440\n"
     ]
    }
   ],
   "source": [
    "ses_container_labels = []\n",
    "for ses in ses_container_list:\n",
    "    ses_container_labels.append(ses.label)\n",
    "print(len(ses_container_labels))"
   ]
  },
  {
   "cell_type": "code",
   "execution_count": 77,
   "metadata": {},
   "outputs": [
    {
     "data": {
      "text/plain": [
       "438"
      ]
     },
     "execution_count": 77,
     "metadata": {},
     "output_type": "execute_result"
    }
   ],
   "source": [
    "len(set(ses_container_labels))"
   ]
  },
  {
   "cell_type": "code",
   "execution_count": 91,
   "metadata": {},
   "outputs": [
    {
     "name": "stdout",
     "output_type": "stream",
     "text": [
      "['20140621-1627', '20190430-1259']\n"
     ]
    }
   ],
   "source": [
    "print([item for item, count in collections.Counter(ses_container_labels).items() if count > 1])"
   ]
  },
  {
   "cell_type": "markdown",
   "metadata": {},
   "source": [
    "### Identify missing sessions / subjects"
   ]
  },
  {
   "cell_type": "code",
   "execution_count": 79,
   "metadata": {},
   "outputs": [
    {
     "name": "stdout",
     "output_type": "stream",
     "text": [
      "861\n"
     ]
    }
   ],
   "source": [
    "collection_sessions = [fw.get_session(x.id) for x in fw.get_collection_sessions(collection_id)] \n",
    "print(len(collection_sessions))"
   ]
  },
  {
   "cell_type": "code",
   "execution_count": 128,
   "metadata": {},
   "outputs": [
    {
     "name": "stdout",
     "output_type": "stream",
     "text": [
      "435\n",
      "---\n"
     ]
    }
   ],
   "source": [
    "ses_in_collect = []\n",
    "for ses in collection_sessions:\n",
    "    project = fw.get(ses.parents[\"project\"])\n",
    "    if 'HUP3TLegacy' in project.label:\n",
    "        ses_in_collect.append(ses.label)\n",
    "print(len(ses_in_collect))\n",
    "print('---')"
   ]
  },
  {
   "cell_type": "code",
   "execution_count": 88,
   "metadata": {},
   "outputs": [
    {
     "data": {
      "text/plain": [
       "{'20110728-1250', '20160316-1459', '20160316-1604'}"
      ]
     },
     "execution_count": 88,
     "metadata": {},
     "output_type": "execute_result"
    }
   ],
   "source": [
    "set(ses_container_labels) - set(ses_in_collect)"
   ]
  },
  {
   "cell_type": "code",
   "execution_count": 93,
   "metadata": {},
   "outputs": [],
   "source": [
    "ses_in_collect2 = [0]*len(ses_in_collect)\n",
    "for i in range(len(ses_in_collect)):\n",
    "    ses_in_collect2[i] = ses_in_collect[i].split('-')[0] # remove the four trailing digits after the dash"
   ]
  },
  {
   "cell_type": "code",
   "execution_count": 102,
   "metadata": {},
   "outputs": [
    {
     "name": "stdout",
     "output_type": "stream",
     "text": [
      "384\n"
     ]
    }
   ],
   "source": [
    "print(len(set(ses_in_collect2)))"
   ]
  },
  {
   "cell_type": "markdown",
   "metadata": {},
   "source": [
    "So there are \"duplicates\" but just because we truncated the four trailing digits (aka the time of day). Some sessions happened on the same day. Which is why we can't use sets to determine the number missing."
   ]
  },
  {
   "cell_type": "code",
   "execution_count": 95,
   "metadata": {},
   "outputs": [
    {
     "name": "stdout",
     "output_type": "stream",
     "text": [
      "18\n"
     ]
    },
    {
     "data": {
      "text/plain": [
       "['20091120',\n",
       " '20090811',\n",
       " '20121019',\n",
       " '20191220',\n",
       " '20191217',\n",
       " '20171212',\n",
       " '20050816',\n",
       " '20081013',\n",
       " '20081001',\n",
       " '20191118',\n",
       " '20200117',\n",
       " '20060402',\n",
       " '20191115',\n",
       " '20160316',\n",
       " '20191029',\n",
       " '20191015',\n",
       " '20051018',\n",
       " '20200113']"
      ]
     },
     "execution_count": 95,
     "metadata": {},
     "output_type": "execute_result"
    }
   ],
   "source": [
    "diff_list = list(set(excel_ses_list2) - set(ses_in_collect2))\n",
    "print(len(diff_list))\n",
    "diff_list"
   ]
  },
  {
   "cell_type": "markdown",
   "metadata": {},
   "source": [
    "Instead, we allow for \"duplicates\":"
   ]
  },
  {
   "cell_type": "code",
   "execution_count": 104,
   "metadata": {},
   "outputs": [
    {
     "name": "stdout",
     "output_type": "stream",
     "text": [
      "21\n"
     ]
    },
    {
     "data": {
      "text/plain": [
       "['20090811',\n",
       " '20051018',\n",
       " '20051018',\n",
       " '20060402',\n",
       " '20081001',\n",
       " '20091120',\n",
       " '20081013',\n",
       " '20191217',\n",
       " '20191217',\n",
       " '20191029',\n",
       " '20191029',\n",
       " '20191115',\n",
       " '20191015',\n",
       " '20191118',\n",
       " '20200117',\n",
       " '20050816',\n",
       " '20121019',\n",
       " '20191220',\n",
       " '20200113',\n",
       " '20171212',\n",
       " '20160316']"
      ]
     },
     "execution_count": 104,
     "metadata": {},
     "output_type": "execute_result"
    }
   ],
   "source": [
    "diff_list2 = Diff(excel_ses_list2, ses_in_collect2)\n",
    "print(len(diff_list2))\n",
    "diff_list2"
   ]
  },
  {
   "cell_type": "markdown",
   "metadata": {},
   "source": [
    "Kind of confusing. What we really want to look at is subjects, though. Let's do a similar comparison and try to reconstruct the 24 missing."
   ]
  },
  {
   "cell_type": "code",
   "execution_count": 112,
   "metadata": {},
   "outputs": [
    {
     "name": "stdout",
     "output_type": "stream",
     "text": [
      "435\n",
      "435\n",
      "---\n"
     ]
    }
   ],
   "source": [
    "sub_in_collect = []\n",
    "for ses in collection_sessions:\n",
    "    project = fw.get(ses.parents[\"project\"])\n",
    "    if 'HUP3TLegacy' in project.label:\n",
    "        sub = fw.get(ses.parents[\"subject\"])\n",
    "        sub_in_collect.append(sub.label)\n",
    "print(len(sub_in_collect))\n",
    "print(len(set(sub_in_collect)))\n",
    "print('---')"
   ]
  },
  {
   "cell_type": "code",
   "execution_count": 115,
   "metadata": {},
   "outputs": [
    {
     "name": "stdout",
     "output_type": "stream",
     "text": [
      "24\n",
      "24\n"
     ]
    },
    {
     "data": {
      "text/plain": [
       "['100979',\n",
       " '102622',\n",
       " '105114',\n",
       " '106069',\n",
       " '106555',\n",
       " '106954',\n",
       " '109177',\n",
       " '109758',\n",
       " '112002',\n",
       " '114783',\n",
       " '125678',\n",
       " '125677',\n",
       " '125530',\n",
       " '125542',\n",
       " '125277',\n",
       " '124847',\n",
       " '125278',\n",
       " '123119',\n",
       " '108783.1',\n",
       " '107837.1',\n",
       " '125781',\n",
       " '125333',\n",
       " '122700',\n",
       " '120841']"
      ]
     },
     "execution_count": 115,
     "metadata": {},
     "output_type": "execute_result"
    }
   ],
   "source": [
    "sub_diff_list = Diff(excel_sid_list, sub_in_collect)\n",
    "print(len(sub_diff_list))\n",
    "print(len(set(sub_diff_list)))\n",
    "sub_diff_list"
   ]
  },
  {
   "cell_type": "markdown",
   "metadata": {},
   "source": [
    "This makes more sense..."
   ]
  },
  {
   "cell_type": "markdown",
   "metadata": {},
   "source": [
    "From Nik:\n",
    "+ 102622 -- take flywheel session 20090810 (this was likely a chead upload typo)\n",
    "+ 106555 -- take flywheel session 20090406 (same as ^)\n",
    "+ 106954 -- take flywheel session 20060402 (same as ^^)\n",
    "+ 123119 -- the 20200117 date is in the HUP6 project but is a little confusing as there is two sessions on that date. The one with timestamp 08:19 contains the ABCD_T1_vNav_passive scan. \n",
    "+ 109758 -- the 20081002 scan is usable. Unsure why the 2009 scan didn't make it to HUP3TLegacy however\n",
    "+ 124847 -- the 20190916 scan is usable. The other one has not been uploaded to flywheel yet it is still on the PMACS cluster \n",
    "\n",
    "This will bring the number of subjects in the collection to 441 (435 + 6)."
   ]
  },
  {
   "cell_type": "markdown",
   "metadata": {},
   "source": [
    "From Nik:\n",
    "For the last 18 just on quick scan through any scans post 12/10/2019 should be in the HUP6 project. Scans in between ~10/1/2019 - 12/10/2019 are not yet on flywheel.\n",
    "\n",
    "Now I will add scans post 12/10/2019 from HUP6 project. Just going to search remaining subjects and check the date."
   ]
  },
  {
   "cell_type": "markdown",
   "metadata": {},
   "source": [
    "Now get the sessions in the collection again:"
   ]
  },
  {
   "cell_type": "code",
   "execution_count": 118,
   "metadata": {},
   "outputs": [
    {
     "name": "stdout",
     "output_type": "stream",
     "text": [
      "871\n"
     ]
    }
   ],
   "source": [
    "collection_sessions2 = [fw.get_session(x.id) for x in fw.get_collection_sessions(collection_id)] \n",
    "print(len(collection_sessions2))"
   ]
  },
  {
   "cell_type": "code",
   "execution_count": 126,
   "metadata": {},
   "outputs": [
    {
     "name": "stdout",
     "output_type": "stream",
     "text": [
      "445\n",
      "445\n",
      "---\n"
     ]
    }
   ],
   "source": [
    "sub_in_collect2 = []\n",
    "for ses in collection_sessions2:\n",
    "    project = fw.get(ses.parents[\"project\"])\n",
    "    if 'HUP3TLegacy'in project.label  or 'HUP6' in project.label: # IMPT: OR HUP6\n",
    "        sub = fw.get(ses.parents[\"subject\"])\n",
    "        sub_in_collect2.append(sub.label)\n",
    "print(len(sub_in_collect2))\n",
    "print(len(set(sub_in_collect2)))\n",
    "print('---')"
   ]
  },
  {
   "cell_type": "code",
   "execution_count": 127,
   "metadata": {},
   "outputs": [
    {
     "name": "stdout",
     "output_type": "stream",
     "text": [
      "14\n",
      "14\n"
     ]
    },
    {
     "data": {
      "text/plain": [
       "['100979',\n",
       " '105114',\n",
       " '106069',\n",
       " '109177',\n",
       " '112002',\n",
       " '114783',\n",
       " '125530',\n",
       " '125542',\n",
       " '125277',\n",
       " '125278',\n",
       " '108783.1',\n",
       " '107837.1',\n",
       " '122700',\n",
       " '120841']"
      ]
     },
     "execution_count": 127,
     "metadata": {},
     "output_type": "execute_result"
    }
   ],
   "source": [
    "sub_diff_list2 = Diff(excel_sid_list, sub_in_collect2)\n",
    "print(len(sub_diff_list2))\n",
    "print(len(set(sub_diff_list2)))\n",
    "sub_diff_list2"
   ]
  },
  {
   "cell_type": "markdown",
   "metadata": {},
   "source": [
    "Added 125277, session 20200130."
   ]
  }
 ],
 "metadata": {
  "kernelspec": {
   "display_name": "Python 3",
   "language": "python",
   "name": "python3"
  },
  "language_info": {
   "codemirror_mode": {
    "name": "ipython",
    "version": 3
   },
   "file_extension": ".py",
   "mimetype": "text/x-python",
   "name": "python",
   "nbconvert_exporter": "python",
   "pygments_lexer": "ipython3",
   "version": "3.8.8"
  }
 },
 "nbformat": 4,
 "nbformat_minor": 4
}
