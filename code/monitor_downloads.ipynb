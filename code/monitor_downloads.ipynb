{
 "cells": [
  {
   "cell_type": "code",
   "execution_count": 19,
   "metadata": {},
   "outputs": [
    {
     "data": {
      "text/plain": [
       "33.41"
      ]
     },
     "execution_count": 19,
     "metadata": {},
     "output_type": "execute_result"
    }
   ],
   "source": [
    "import os\n",
    "local_dir = '/media/will/My Passport/Ubuntu/cortical_thickness_maps/ct'\n",
    "complete = []\n",
    "incomplete = []\n",
    "subdirs = list(filter(os.path.isdir, [os.path.join(local_dir, f) for f in os.listdir(local_dir)]))\n",
    "for subdir in subdirs:\n",
    "    n_files = len(os.listdir(subdir))\n",
    "    if n_files >= 5:\n",
    "        complete.append(subdir)\n",
    "    else:\n",
    "        incomplete.append(subdir)\n",
    "com = len(complete)\n",
    "inc = len(incomplete)\n",
    "round((com/(com+inc))*100, 2)"
   ]
  },
  {
   "cell_type": "code",
   "execution_count": null,
   "metadata": {},
   "outputs": [],
   "source": []
  }
 ],
 "metadata": {
  "kernelspec": {
   "display_name": "Python 3",
   "language": "python",
   "name": "python3"
  },
  "language_info": {
   "codemirror_mode": {
    "name": "ipython",
    "version": 3
   },
   "file_extension": ".py",
   "mimetype": "text/x-python",
   "name": "python",
   "nbconvert_exporter": "python",
   "pygments_lexer": "ipython3",
   "version": "3.7.3"
  }
 },
 "nbformat": 4,
 "nbformat_minor": 2
}
