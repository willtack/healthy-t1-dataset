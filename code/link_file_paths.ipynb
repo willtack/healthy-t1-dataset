{
 "cells": [
  {
   "cell_type": "markdown",
   "metadata": {},
   "source": [
    "## Link image file paths to correct rows in spreadsheet"
   ]
  },
  {
   "cell_type": "code",
   "execution_count": 1,
   "metadata": {},
   "outputs": [],
   "source": [
    "import pandas as pd\n",
    "import os\n",
    "import glob "
   ]
  },
  {
   "cell_type": "code",
   "execution_count": 51,
   "metadata": {},
   "outputs": [],
   "source": [
    "## load spreadsheet\n",
    "csv_path = '../metadata.csv'\n",
    "df = pd.read_csv(csv_path)"
   ]
  },
  {
   "cell_type": "code",
   "execution_count": 52,
   "metadata": {},
   "outputs": [],
   "source": [
    "# loop through files in folder\n",
    "local_dir = '/media/will/My Passport/Ubuntu/cortical_thickness_maps/ct/'\n",
    "# for file in list(glob.glob(local_dir + '*.nii.gz')):\n",
    "subdirs = list(filter(os.path.isdir, [os.path.join(local_dir, f) for f in os.listdir(local_dir)]))\n",
    "for subdir in subdirs:\n",
    "    file_path = list(glob.glob(subdir + '/*CorticalThickness.nii.gz'))[0]\n",
    "    subject_label = os.path.basename(subdir)\n",
    "    # find the row with that subject label in SID column and set Path value in that row to the filepath\n",
    "    df.loc[df['SID']==subject_label, 'Path'] = file_path  "
   ]
  },
  {
   "cell_type": "code",
   "execution_count": 53,
   "metadata": {},
   "outputs": [
    {
     "data": {
      "text/html": [
       "<div>\n",
       "<style scoped>\n",
       "    .dataframe tbody tr th:only-of-type {\n",
       "        vertical-align: middle;\n",
       "    }\n",
       "\n",
       "    .dataframe tbody tr th {\n",
       "        vertical-align: top;\n",
       "    }\n",
       "\n",
       "    .dataframe thead th {\n",
       "        text-align: right;\n",
       "    }\n",
       "</style>\n",
       "<table border=\"1\" class=\"dataframe\">\n",
       "  <thead>\n",
       "    <tr style=\"text-align: right;\">\n",
       "      <th></th>\n",
       "      <th>Unnamed: 0</th>\n",
       "      <th>Group</th>\n",
       "      <th>SID</th>\n",
       "      <th>Sex</th>\n",
       "      <th>Age</th>\n",
       "      <th>QC Rating</th>\n",
       "      <th>Artifact</th>\n",
       "      <th>Movement</th>\n",
       "      <th>Path</th>\n",
       "      <th>Unnamed: 8</th>\n",
       "    </tr>\n",
       "  </thead>\n",
       "  <tbody>\n",
       "    <tr>\n",
       "      <th>0</th>\n",
       "      <td>0</td>\n",
       "      <td>Penn FTD Center</td>\n",
       "      <td>100066</td>\n",
       "      <td>Female</td>\n",
       "      <td>64.0</td>\n",
       "      <td>2</td>\n",
       "      <td>0.0</td>\n",
       "      <td>1.0</td>\n",
       "      <td>/media/will/My Passport/Ubuntu/cortical_thickn...</td>\n",
       "      <td>NaN</td>\n",
       "    </tr>\n",
       "    <tr>\n",
       "      <th>1</th>\n",
       "      <td>1</td>\n",
       "      <td>Penn FTD Center</td>\n",
       "      <td>100074</td>\n",
       "      <td>Female</td>\n",
       "      <td>27.0</td>\n",
       "      <td>2</td>\n",
       "      <td>0.0</td>\n",
       "      <td>1.0</td>\n",
       "      <td>/media/will/My Passport/Ubuntu/cortical_thickn...</td>\n",
       "      <td>NaN</td>\n",
       "    </tr>\n",
       "    <tr>\n",
       "      <th>2</th>\n",
       "      <td>2</td>\n",
       "      <td>Penn FTD Center</td>\n",
       "      <td>100115</td>\n",
       "      <td>Female</td>\n",
       "      <td>55.0</td>\n",
       "      <td>3</td>\n",
       "      <td>0.0</td>\n",
       "      <td>0.0</td>\n",
       "      <td>/media/will/My Passport/Ubuntu/cortical_thickn...</td>\n",
       "      <td>NaN</td>\n",
       "    </tr>\n",
       "    <tr>\n",
       "      <th>3</th>\n",
       "      <td>3</td>\n",
       "      <td>Penn FTD Center</td>\n",
       "      <td>100190</td>\n",
       "      <td>Female</td>\n",
       "      <td>65.0</td>\n",
       "      <td>3</td>\n",
       "      <td>0.0</td>\n",
       "      <td>0.0</td>\n",
       "      <td>/media/will/My Passport/Ubuntu/cortical_thickn...</td>\n",
       "      <td>NaN</td>\n",
       "    </tr>\n",
       "    <tr>\n",
       "      <th>4</th>\n",
       "      <td>4</td>\n",
       "      <td>Penn FTD Center</td>\n",
       "      <td>100242</td>\n",
       "      <td>Female</td>\n",
       "      <td>27.0</td>\n",
       "      <td>2</td>\n",
       "      <td>0.0</td>\n",
       "      <td>1.0</td>\n",
       "      <td>/media/will/My Passport/Ubuntu/cortical_thickn...</td>\n",
       "      <td>NaN</td>\n",
       "    </tr>\n",
       "  </tbody>\n",
       "</table>\n",
       "</div>"
      ],
      "text/plain": [
       "   Unnamed: 0            Group     SID     Sex   Age QC Rating  Artifact  \\\n",
       "0           0  Penn FTD Center  100066  Female  64.0         2       0.0   \n",
       "1           1  Penn FTD Center  100074  Female  27.0         2       0.0   \n",
       "2           2  Penn FTD Center  100115  Female  55.0         3       0.0   \n",
       "3           3  Penn FTD Center  100190  Female  65.0         3       0.0   \n",
       "4           4  Penn FTD Center  100242  Female  27.0         2       0.0   \n",
       "\n",
       "   Movement                                               Path Unnamed: 8  \n",
       "0       1.0  /media/will/My Passport/Ubuntu/cortical_thickn...        NaN  \n",
       "1       1.0  /media/will/My Passport/Ubuntu/cortical_thickn...        NaN  \n",
       "2       0.0  /media/will/My Passport/Ubuntu/cortical_thickn...        NaN  \n",
       "3       0.0  /media/will/My Passport/Ubuntu/cortical_thickn...        NaN  \n",
       "4       1.0  /media/will/My Passport/Ubuntu/cortical_thickn...        NaN  "
      ]
     },
     "execution_count": 53,
     "metadata": {},
     "output_type": "execute_result"
    }
   ],
   "source": [
    "df.head()"
   ]
  },
  {
   "cell_type": "code",
   "execution_count": 54,
   "metadata": {},
   "outputs": [],
   "source": [
    "# save csv\n",
    "df.to_csv(csv_path)"
   ]
  },
  {
   "cell_type": "code",
   "execution_count": 55,
   "metadata": {},
   "outputs": [
    {
     "name": "stdout",
     "output_type": "stream",
     "text": [
      "[]\n"
     ]
    }
   ],
   "source": [
    "# check for duplicates\n",
    "import collections\n",
    "path_series = df['Path']\n",
    "print([item for item, count in collections.Counter(list(path_series)).items() if count > 1])"
   ]
  },
  {
   "cell_type": "markdown",
   "metadata": {},
   "source": [
    "## OLD: manually edit duplicates "
   ]
  },
  {
   "cell_type": "markdown",
   "metadata": {},
   "source": [
    "### identify scans missing from spreadsheet but are saved on disk"
   ]
  },
  {
   "cell_type": "code",
   "execution_count": 44,
   "metadata": {},
   "outputs": [],
   "source": [
    "## load new spreadsheet\n",
    "csv_path = './all_subs_edit.csv'\n",
    "df2 = pd.read_csv(csv_path)"
   ]
  },
  {
   "cell_type": "code",
   "execution_count": 47,
   "metadata": {},
   "outputs": [],
   "source": [
    "path_series2 = df2['Path']\n",
    "path_list = list(path_series2)"
   ]
  },
  {
   "cell_type": "code",
   "execution_count": 52,
   "metadata": {},
   "outputs": [
    {
     "name": "stdout",
     "output_type": "stream",
     "text": [
      "868\n"
     ]
    }
   ],
   "source": [
    "path_list_disk = list()\n",
    "for file in list(glob.glob(local_dir + '*.nii.gz')):\n",
    "    path_list_disk.append(file)\n",
    "print(len(path_list_disk))"
   ]
  },
  {
   "cell_type": "code",
   "execution_count": 55,
   "metadata": {},
   "outputs": [
    {
     "data": {
      "text/plain": [
       "{'/media/will/My Passport/Ubuntu/cortical_thickness_maps/all_maps/sub-107837.10_ses-20121019-1306_CorticalThicknessNormalizedToTemplate.nii.gz',\n",
       " '/media/will/My Passport/Ubuntu/cortical_thickness_maps/all_maps/sub-108783.10_ses-20050816-0748_CorticalThicknessNormalizedToTemplate.nii.gz'}"
      ]
     },
     "execution_count": 55,
     "metadata": {},
     "output_type": "execute_result"
    }
   ],
   "source": [
    "set(path_list_disk) - set(path_list)"
   ]
  },
  {
   "cell_type": "markdown",
   "metadata": {},
   "source": [
    "deleted 111275 to be simple"
   ]
  }
 ],
 "metadata": {
  "kernelspec": {
   "display_name": "Python 3",
   "language": "python",
   "name": "python3"
  },
  "language_info": {
   "codemirror_mode": {
    "name": "ipython",
    "version": 3
   },
   "file_extension": ".py",
   "mimetype": "text/x-python",
   "name": "python",
   "nbconvert_exporter": "python",
   "pygments_lexer": "ipython3",
   "version": "3.7.3"
  }
 },
 "nbformat": 4,
 "nbformat_minor": 2
}
