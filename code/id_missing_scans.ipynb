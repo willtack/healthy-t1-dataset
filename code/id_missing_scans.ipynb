{
 "cells": [
  {
   "cell_type": "markdown",
   "metadata": {},
   "source": [
    "### Identify missing sessions\n",
    "3/31/2021\n",
    "I discovered that there were 866 sessions instead of 868. First, checking if FTDC sessions changed:"
   ]
  },
  {
   "cell_type": "markdown",
   "metadata": {},
   "source": [
    "#### Check what's on Flywheel"
   ]
  },
  {
   "cell_type": "code",
   "execution_count": 7,
   "metadata": {},
   "outputs": [
    {
     "name": "stdout",
     "output_type": "stream",
     "text": [
      "445\n"
     ]
    }
   ],
   "source": [
    "ftdc_sessions = [fw.get(s.parents['subject']).label for s in sessions if s.parents['project']=='5e1cec8e3a9694005b6d12ab']\n",
    "print(len(ftdc_sessions))"
   ]
  },
  {
   "cell_type": "markdown",
   "metadata": {},
   "source": [
    "#### Now check local spreadsheet"
   ]
  },
  {
   "cell_type": "code",
   "execution_count": 36,
   "metadata": {},
   "outputs": [
    {
     "data": {
      "text/plain": [
       "447"
      ]
     },
     "execution_count": 36,
     "metadata": {},
     "output_type": "execute_result"
    }
   ],
   "source": [
    "df = pd.read_csv('/home/will/Projects/healthy-t1-dataset/metadata.csv')\n",
    "ftdc_ids = list(df[df[\"Group\"]=='Penn FTD Center']['SID'])\n",
    "# adjust differences in formatting\n",
    "for i in range(len(ftdc_ids)-1):\n",
    "    ftdc_ids[i] = ftdc_ids[i].replace(\"-2\", \"\")\n",
    "    if ftdc_ids[i].endswith('.1'):\n",
    "        ftdc_ids[i] = ftdc_ids[i].replace(\".1\", \".10\")\n",
    "len(ftdc_ids)"
   ]
  },
  {
   "cell_type": "markdown",
   "metadata": {},
   "source": [
    "#### There are two fewer sessions on Flywheel. Subtract the sets to isolate the missing sessions:"
   ]
  },
  {
   "cell_type": "code",
   "execution_count": 37,
   "metadata": {},
   "outputs": [
    {
     "data": {
      "text/plain": [
       "{'106555', '110445.05'}"
      ]
     },
     "execution_count": 37,
     "metadata": {},
     "output_type": "execute_result"
    }
   ],
   "source": [
    "set(ftdc_ids) - set(ftdc_sessions)"
   ]
  }
 ],
 "metadata": {
  "kernelspec": {
   "display_name": "Python 3",
   "language": "python",
   "name": "python3"
  },
  "language_info": {
   "codemirror_mode": {
    "name": "ipython",
    "version": 3
   },
   "file_extension": ".py",
   "mimetype": "text/x-python",
   "name": "python",
   "nbconvert_exporter": "python",
   "pygments_lexer": "ipython3",
   "version": "3.7.3"
  }
 },
 "nbformat": 4,
 "nbformat_minor": 2
}
