{
 "cells": [
  {
   "cell_type": "code",
   "execution_count": 20,
   "metadata": {},
   "outputs": [],
   "source": [
    "import flywheel\n",
    "fw = flywheel.Client()\n",
    "gear = fw.lookup('gears/wscore-ct-heatmap')\n",
    "collection_id = '60536423b2b486911f893843'"
   ]
  },
  {
   "cell_type": "code",
   "execution_count": 32,
   "metadata": {},
   "outputs": [],
   "source": [
    "sessions = [fw.get_session(x.id) for x in fw.get_collection_sessions(collection_id)]"
   ]
  },
  {
   "cell_type": "code",
   "execution_count": 40,
   "metadata": {},
   "outputs": [
    {
     "name": "stdout",
     "output_type": "stream",
     "text": [
      "antsct_sub-103466_ses-20130520-1400.zip\n",
      "58.0\n",
      "antsct_sub-103466_ses-20150616-1013.zip\n",
      "60.0\n",
      "antsct_sub-118430_ses-20131121-1403.zip\n",
      "54.0\n",
      "antsct_sub-118430_ses-201607121512.zip\n",
      "57.0\n",
      "antsct_sub-119454_ses-20141029-1558.zip\n",
      "50.0\n",
      "antsct_sub-119454_ses-20170721-1312.zip\n",
      "53.0\n",
      "antsct_sub-121200_ses-20160721-1312.zip\n",
      "69.0\n",
      "antsct_sub-121200_ses-20190722-1653.zip\n",
      "72.0\n",
      "antsct_sub-122632_ses-20171005-1302.zip\n",
      "63.0\n",
      "antsct_sub-122733_ses-20171012-1608.zip\n",
      "70.0\n",
      "antsct_sub-122905_ses-20180104-1502.zip\n",
      "56.0\n",
      "antsct_sub-122905_ses-20190430-1404.zip\n",
      "57.0\n",
      "antsct_sub-123145_ses-201808011431.zip\n",
      "72.0\n",
      "antsct_sub-123145_ses-20190925-0926.zip\n",
      "73.0\n"
     ]
    }
   ],
   "source": [
    "for session in sessions:\n",
    "    for analysis in session.analyses:          \n",
    "        if 'antsct' in analysis.label and analysis.job['state']=='complete' and analysis.files:\n",
    "            # get antsct zip file\n",
    "            zip_file = [f for f in analysis.files if f.name.endswith('.zip')][0]\n",
    "            print(zip_file.name)\n",
    "            # get patient age\n",
    "            age_secs = session.age\n",
    "            age_years = age_secs / (60*60*24*365.25)\n",
    "            print(age_years)\n",
    "            \n",
    "            inputs = {\"antsct_output\": zip_file}\n",
    "            config = {\"patient_age\": age_years}\n",
    "            analysis_id = gear.run(analysis_label='wscore_2021-03-31_test_WT', config=config, inputs=inputs, destination=session)\n",
    "            \n",
    "        else:\n",
    "            continue \n",
    "    "
   ]
  },
  {
   "cell_type": "code",
   "execution_count": 33,
   "metadata": {},
   "outputs": [
    {
     "name": "stdout",
     "output_type": "stream",
     "text": [
      "operator\n",
      "label\n",
      "info\n",
      "project\n",
      "uid\n",
      "timestamp\n",
      "timezone\n",
      "subject\n",
      "age\n",
      "weight\n",
      "_id\n",
      "info_exists\n",
      "parents\n",
      "created\n",
      "modified\n",
      "revision\n",
      "permissions\n",
      "group\n",
      "project_has_template\n",
      "satisfies_template\n",
      "files\n",
      "notes\n",
      "tags\n",
      "analyses\n"
     ]
    }
   ],
   "source": [
    "for key in sessions[0].keys():\n",
    "    print(key)"
   ]
  }
 ],
 "metadata": {
  "kernelspec": {
   "display_name": "Python 3",
   "language": "python",
   "name": "python3"
  },
  "language_info": {
   "codemirror_mode": {
    "name": "ipython",
    "version": 3
   },
   "file_extension": ".py",
   "mimetype": "text/x-python",
   "name": "python",
   "nbconvert_exporter": "python",
   "pygments_lexer": "ipython3",
   "version": "3.7.3"
  }
 },
 "nbformat": 4,
 "nbformat_minor": 2
}
