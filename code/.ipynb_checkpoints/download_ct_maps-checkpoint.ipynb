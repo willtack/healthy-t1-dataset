{
 "cells": [
  {
   "cell_type": "markdown",
   "metadata": {},
   "source": [
    "## Download ANTs-CT analyses from T1 Normative Dataset"
   ]
  },
  {
   "cell_type": "code",
   "execution_count": null,
   "metadata": {},
   "outputs": [],
   "source": [
    "import flywheel\n",
    "import os\n",
    "fw = flywheel.Client()\n",
    "collection_id = '5eb5081448fe1b1e5792a7a9'\n",
    "# gear = fw.lookup('gears/antsct-aging-fw')\n",
    "gear_name = 'antsct-fw'\n",
    "local_dir = '/media/will/My Passport/Ubuntu/cortical_thickness_maps/all_maps'"
   ]
  },
  {
   "cell_type": "code",
   "execution_count": null,
   "metadata": {},
   "outputs": [],
   "source": [
    "# Get all the sessions within the collection.\n",
    "sessions = [fw.get_session(x.id) for x in fw.get_collection_sessions(collection_id)]"
   ]
  },
  {
   "cell_type": "markdown",
   "metadata": {},
   "source": [
    "### Download cortical thickness maps from T1 Normative Dataset"
   ]
  },
  {
   "cell_type": "code",
   "execution_count": null,
   "metadata": {},
   "outputs": [],
   "source": [
    "# Gather up the matching analyses in a list\n",
    "analyses = list()\n",
    "# Iterate over the sessions, find the analyses, and download...\n",
    "for session in sessions:\n",
    "    for analysis in session.analyses:\n",
    "        match = False\n",
    "                   \n",
    "        if 'antsct_2021-01-06_WT' in analysis.label:\n",
    "            match = True            \n",
    "\n",
    "        if match and analysis.job['state']=='complete' and analysis.files:\n",
    "            ## Append to the analyses list\n",
    "            analyses.append(analysis)\n",
    "#             file = [f for f in analysis.files if f.name.endswith('CorticalThicknessNormalizedToTemplate.nii.gz')]\n",
    "#             try:\n",
    "#                 analysis.download_file(file[0].name, os.path.join(local_dir, file[0].name))\n",
    "#             except IndexError as e:\n",
    "#                 print(session.label)\n",
    "\n",
    "print(len(analyses))"
   ]
  },
  {
   "cell_type": "markdown",
   "metadata": {},
   "source": [
    "## Book-keeping\n",
    "Print out analyses' sessions and labels and check for duplicates"
   ]
  },
  {
   "cell_type": "code",
   "execution_count": null,
   "metadata": {},
   "outputs": [],
   "source": [
    "sessions_list = list()\n",
    "subjects_list = list()\n",
    "sess_ids_list = list()\n",
    "for a in analyses:\n",
    "    sess_ids_list.append(a.parents['session'])\n",
    "    sessions_list.append(fw.get(a.parents['session']).label)\n",
    "    #subjects_list.append(fw.get(a.parents['subject']).label)\n",
    "print(sess_ids_list)\n",
    "print('')\n",
    "print(sessions_list)"
   ]
  },
  {
   "cell_type": "code",
   "execution_count": null,
   "metadata": {},
   "outputs": [],
   "source": [
    "# check for duplicates\n",
    "import collections\n",
    "print([item for item, count in collections.Counter(sess_ids_list).items() if count > 1])"
   ]
  },
  {
   "cell_type": "code",
   "execution_count": null,
   "metadata": {},
   "outputs": [],
   "source": [
    "# identify duplicate session\n",
    "s = fw.get('5b69a3aec78511001d2d2f1b')\n",
    "print(s['parents'])\n",
    "su = fw.get('5b69a3aec78511001d2d2f1a')\n",
    "print(su.label)"
   ]
  }
 ],
 "metadata": {
  "kernelspec": {
   "display_name": "Python 3",
   "language": "python",
   "name": "python3"
  },
  "language_info": {
   "codemirror_mode": {
    "name": "ipython",
    "version": 3
   },
   "file_extension": ".py",
   "mimetype": "text/x-python",
   "name": "python",
   "nbconvert_exporter": "python",
   "pygments_lexer": "ipython3",
   "version": "3.7.3"
  }
 },
 "nbformat": 4,
 "nbformat_minor": 2
}
