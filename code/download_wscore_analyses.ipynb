{
 "cells": [
  {
   "cell_type": "code",
   "execution_count": 10,
   "metadata": {},
   "outputs": [],
   "source": [
    "import flywheel\n",
    "import os\n",
    "import datetime\n",
    "from dateutil.tz import tzutc\n",
    "\n",
    "fw = flywheel.Client()\n",
    "collection_id = '60536423b2b486911f893843'\n",
    "# gear = fw.lookup('gears/antsct-aging-fw')\n",
    "gear_name = 'wscore-ct-heatmap'\n",
    "local_dir = '/home/will/Desktop/wscore_testing'\n",
    "os.makedirs(local_dir, exist_ok=True)"
   ]
  },
  {
   "cell_type": "code",
   "execution_count": 11,
   "metadata": {},
   "outputs": [],
   "source": [
    "# Get all the sessions within the collection.\n",
    "sessions = [fw.get_session(x.id) for x in fw.get_collection_sessions(collection_id)]"
   ]
  },
  {
   "cell_type": "code",
   "execution_count": 12,
   "metadata": {},
   "outputs": [],
   "source": [
    "for session in sessions:\n",
    "    sub_label = fw.get(session.parents['subject']).label.replace('_','x')\n",
    "    ses_dir = os.path.join(local_dir, sub_label, session.label)\n",
    "    os.makedirs(ses_dir, exist_ok=True)\n",
    "    \n",
    "    for analysis in session.analyses:\n",
    "        if 'wscore_2021-04-01' in analysis.label and analysis.job['state']=='complete' and analysis.files:\n",
    "            file1 = [f for f in analysis.files if f.name.endswith('.zip')]\n",
    "            file2 = [f for f in analysis.files if f.name.endswith('wscores.csv')]\n",
    "            file3 = [f for f in analysis.files if f.name.endswith('.nii.gz')]\n",
    "            \n",
    "            try:\n",
    "                analysis.download_file(file1[0].name, os.path.join(ses_dir, file1[0].name))\n",
    "                analysis.download_file(file2[0].name, os.path.join(ses_dir, file2[0].name))\n",
    "                analysis.download_file(file3[0].name, os.path.join(ses_dir, file3[0].name))\n",
    "            except IndexError as e:\n",
    "                print(session.label)"
   ]
  }
 ],
 "metadata": {
  "kernelspec": {
   "display_name": "Python 3",
   "language": "python",
   "name": "python3"
  },
  "language_info": {
   "codemirror_mode": {
    "name": "ipython",
    "version": 3
   },
   "file_extension": ".py",
   "mimetype": "text/x-python",
   "name": "python",
   "nbconvert_exporter": "python",
   "pygments_lexer": "ipython3",
   "version": "3.7.3"
  }
 },
 "nbformat": 4,
 "nbformat_minor": 2
}
