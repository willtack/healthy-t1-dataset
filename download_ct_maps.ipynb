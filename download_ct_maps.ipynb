{
 "cells": [
  {
   "cell_type": "markdown",
   "metadata": {},
   "source": [
    "## Download ANTs-CT analyses from T1 Normative Dataset"
   ]
  },
  {
   "cell_type": "code",
   "execution_count": 1,
   "metadata": {},
   "outputs": [],
   "source": [
    "import flywheel\n",
    "import os\n",
    "fw = flywheel.Client()\n",
    "collection_id = '5eb5081448fe1b1e5792a7a9'\n",
    "# gear = fw.lookup('gears/antsct-aging-fw')\n",
    "gear_name = 'antsct-fw'\n",
    "local_dir = '/media/will/My Passport/Ubuntu/cortical_thickness_maps/all_maps'"
   ]
  },
  {
   "cell_type": "code",
   "execution_count": 32,
   "metadata": {},
   "outputs": [
    {
     "name": "stdout",
     "output_type": "stream",
     "text": [
      "done\n"
     ]
    }
   ],
   "source": [
    "# Here we get all the sessions within the collection.\n",
    "# We use `get_session` to return the associated analyses\n",
    "sessions = [fw.get_session(x.id) for x in fw.get_collection_sessions(collection_id)]"
   ]
  },
  {
   "cell_type": "code",
   "execution_count": 39,
   "metadata": {},
   "outputs": [
    {
     "name": "stdout",
     "output_type": "stream",
     "text": [
      "49\n"
     ]
    }
   ],
   "source": [
    "# Download cortical thickness maps from T1 Normative Dataset\n",
    "\n",
    "# Gather up the matching analyses in a list (optional)\n",
    "analyses = list()\n",
    "# Iterate over the sessions, find the analyses, and download...\n",
    "for session in sessions:\n",
    "    for analysis in session.analyses:\n",
    "        match = False\n",
    "        \n",
    "#         if 'antsct_2020-12-21_WT' in analysis.label:\n",
    "#             match = True\n",
    "            \n",
    "        if 'antsct_2021-01-06_WT' in analysis.label:\n",
    "            match = True            \n",
    "\n",
    "        if match and analysis.job['state']=='complete' and analysis.files:\n",
    "            ## Append to the analyses list\n",
    "            analyses.append(analysis)\n",
    "#             file = [f for f in analysis.files if f.name.endswith('CorticalThicknessNormalizedToTemplate.nii.gz')]\n",
    "#             try:\n",
    "#                 analysis.download_file(file[0].name, os.path.join(local_dir, file[0].name))\n",
    "#             except IndexError as e:\n",
    "#                 print(session.label)\n",
    "\n",
    "print(len(analyses))"
   ]
  },
  {
   "cell_type": "markdown",
   "metadata": {},
   "source": [
    "## Book-keeping\n",
    "Print out analyses' sessions and labels and check for duplicates"
   ]
  },
  {
   "cell_type": "code",
   "execution_count": 40,
   "metadata": {},
   "outputs": [
    {
     "name": "stdout",
     "output_type": "stream",
     "text": [
      "['5b69a3aec78511001d2d2f1b', '5b69a3aec78511001d2d2f1b', '5c9258b4f546b6002dbe15c3', '5c9a5ae2f546b60039eedf13', '5c9cb79ef546b60039ef6980', '5cb480b6f546b60029ef2643', '5cb5c317f546b60027ef697e', '5ced336436da2300473b236e', '5ced535336da2300473b2887', '5ceec0d236da2300473b4ef0', '5cfeaa55a550c600486fb1fe', '5cffb527a550c600466fb24d', '5d015f95a550c600486fde51', '5d016d4fa550c600446fc2e0', '5d028051a550c600446fcc1a', '5d02a962a550c600446fcec7', '5d02d314a550c600446fd0c3', '5d03cc2fa550c60048702794', '5d03cdc8a550c600396fb4b8', '5d04142ea550c6004870368f', '5d041c14a550c600467006d0', '5d0425d3a550c600416fd052', '5d042b10a550c600446fe16c', '5d044075a550c600446fe298', '5d048dc9a550c60048704b5e', '5d04c97ea550c60046701878', '5d04d0c8a550c60048705632', '5d04dc55a550c60046701a68', '5d05455fa550c600416fd7a8', '5d054e6ca550c60046702024', '5d05942aa550c600416fda3a', '5d05a8b7a550c6004670293d', '5d30b8e935e01a0048d5cd24', '5d5415fcc3758a0049e22e4a', '5d5ec98ec3758a0049ecfd3c', '5d6547dec3758a006ef7f932', '5d7a7f100f98b7004374a51a', '5d83c5870f98b7004986e0d5', '5dbb21fee74aa30057fea0e1', '5dcda9e0e74aa300602e9e4c', '5df8ec36d566950078c1f566', '5e1de2f43a9694005b6e11cd', '5e1e4d1a3a9694005b6e80bb', '5e1e57003a9694007a7470d0', '5e25d0b13a969400596f97a8', '5e2715ce3a9694007a812d5a', '5e3c59ab6dea317c272a7411', '5e582662782dc8005af1e88c', '5e679e512f40632d1c3c69e4']\n",
      "\n",
      "['Session 1', 'Session 1', '114000_20190320_3T_DUPLICATE', '122395x20190326x3T', '124613x20190328x3T', '124745x20190415x3T', '124735x20190416x3T', '119363x20190528x3T', '123733x20190528x3T', '123485x20190529x3T', '125023x20190610x3T', '124592x20190611x3T', '101195x20160825x3T', '102439x20161222x3T', '100836x20170216x3T', '106615x20171031x3T', '115582x02x20170912x3T', '106992x20180807x3T', '107196x20181205x3T', '118311x20180911x3T', '118458x20180515x3T', '118736x20181023x3T', '118835x20180206x3T', '119608x20181113x3T', '122334x20181120x3T', '123341x20181219x3T', '123680x20181218x3T', '124174x20181204x3T', '117870x20180220x3T', '118439x20190305x3T', '124211x20190117x3T', '124428x20190206x3T', '106721x01x20190718x3T', '101628x01x20190814x3T', '124868x20190822x3T', '124891x20190827x3T', '105733x01x20190912x3T', '122027x20190919x3T', '106615x01x20191031x3T', '118775x20191114x3T', '20191217-0946', '20090204-1348', '20071119-0935', '20110817-1354', '20200117-1459', '123865x20200121x3T', '125067x20200206x3T', '102167x20200227x3T', '124048x20200310x3T']\n"
     ]
    }
   ],
   "source": [
    "sessions_list = list()\n",
    "subjects_list = list()\n",
    "sess_ids_list = list()\n",
    "for a in analyses:\n",
    "    sess_ids_list.append(a.parents['session'])\n",
    "    sessions_list.append(fw.get(a.parents['session']).label)\n",
    "    #subjects_list.append(fw.get(a.parents['subject']).label)\n",
    "print(sess_ids_list)\n",
    "print('')\n",
    "print(sessions_list)"
   ]
  },
  {
   "cell_type": "code",
   "execution_count": 43,
   "metadata": {},
   "outputs": [
    {
     "name": "stdout",
     "output_type": "stream",
     "text": [
      "['5b69a3aec78511001d2d2f1b']\n"
     ]
    }
   ],
   "source": [
    "# check for duplicates\n",
    "import collections\n",
    "print([item for item, count in collections.Counter(sess_ids_list).items() if count > 1])"
   ]
  },
  {
   "cell_type": "code",
   "execution_count": 47,
   "metadata": {},
   "outputs": [
    {
     "name": "stdout",
     "output_type": "stream",
     "text": [
      "{'acquisition': None,\n",
      " 'analysis': None,\n",
      " 'group': 'tome',\n",
      " 'project': '5a15f72fe108ff001bc0d2ca',\n",
      " 'session': None,\n",
      " 'subject': '5b69a3aec78511001d2d2f1a'}\n",
      "TOME_3042\n"
     ]
    }
   ],
   "source": [
    "# identify duplicate session\n",
    "s = fw.get('5b69a3aec78511001d2d2f1b')\n",
    "print(s['parents'])\n",
    "su = fw.get('5b69a3aec78511001d2d2f1a')\n",
    "print(su.label)"
   ]
  }
 ],
 "metadata": {
  "kernelspec": {
   "display_name": "Python 3",
   "language": "python",
   "name": "python3"
  },
  "language_info": {
   "codemirror_mode": {
    "name": "ipython",
    "version": 3
   },
   "file_extension": ".py",
   "mimetype": "text/x-python",
   "name": "python",
   "nbconvert_exporter": "python",
   "pygments_lexer": "ipython3",
   "version": "3.7.3"
  }
 },
 "nbformat": 4,
 "nbformat_minor": 2
}
